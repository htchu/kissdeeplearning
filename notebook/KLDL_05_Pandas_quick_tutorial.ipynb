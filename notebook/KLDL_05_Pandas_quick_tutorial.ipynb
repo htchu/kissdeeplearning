{
  "nbformat": 4,
  "nbformat_minor": 0,
  "metadata": {
    "kernelspec": {
      "display_name": "Python 3",
      "language": "python",
      "name": "python3"
    },
    "language_info": {
      "codemirror_mode": {
        "name": "ipython",
        "version": 3
      },
      "file_extension": ".py",
      "mimetype": "text/x-python",
      "name": "python",
      "nbconvert_exporter": "python",
      "pygments_lexer": "ipython3",
      "version": "3.7.6"
    },
    "colab": {
      "provenance": [],
      "collapsed_sections": [
        "LY-QgGuYFaR4",
        "vu32rAmfFaR5",
        "7lybApt3FaR6",
        "TNlCpQHGFaR7",
        "vD5sVsB3FaR7",
        "2gfHfjcgFaR7",
        "MC8Lqk8BFaR7",
        "nbdN7kllFaR8"
      ]
    }
  },
  "cells": [
    {
      "cell_type": "markdown",
      "metadata": {
        "id": "5GyunHvfFaRz"
      },
      "source": [
        "<img src=\"https://i.ibb.co/qjt4Ymb/2022-09-19-004719.png\" alt=\"2022-09-19-004719\" border=\"0\">\n",
        "\n",
        "# Topic 05: Pandas quick tutorial\n",
        "\n",
        "Pandas Official website teaching reference materials: http://pandas.pydata.org/pandas-docs/stable/10min.html\n"
      ]
    },
    {
      "cell_type": "markdown",
      "metadata": {
        "id": "_9ZrWi6RFaR0"
      },
      "source": [
        "Notebook Contents:\n",
        "\n",
        "    - Object creation\n",
        "    - Viewing data\n",
        "    - Selection\n",
        "        - Getting\n",
        "        - Selection by label\n",
        "        - Selection by position\n",
        "        - Boolean indexing\n",
        "        - Setting\n",
        "    - Missing data\n",
        "    - Operations\n",
        "        - Stats\n",
        "        - Apply\n",
        "        - Histogramming\n",
        "        - String methods\n",
        "    - Merge\n",
        "        - Concat\n",
        "        - Append\n",
        "    - Grouping\n",
        "    - Reshaping\n",
        "        - Pivot tables\n",
        "    - Categoricals\n",
        "    - Getting data in/out\n",
        "        - CSV\n",
        "        - HDF5\n",
        "        - Excel\n"
      ]
    },
    {
      "cell_type": "code",
      "metadata": {
        "id": "guJOmKRIFaR1"
      },
      "source": [
        "import pandas as pd\n",
        "import numpy as np\n",
        "import matplotlib.pyplot as plt"
      ],
      "execution_count": null,
      "outputs": []
    },
    {
      "cell_type": "markdown",
      "metadata": {
        "id": "YGHJfqxQFaR1"
      },
      "source": [
        "### Object creation"
      ]
    },
    {
      "cell_type": "code",
      "metadata": {
        "id": "B_YvJ10vFaR1"
      },
      "source": [
        "# creating a Series by passing a list of values\n",
        "squares = pd.Series([(x+1)**2 for x in range(10)])\n",
        "squares"
      ],
      "execution_count": null,
      "outputs": []
    },
    {
      "cell_type": "code",
      "metadata": {
        "id": "9cYiRB2VFaR1"
      },
      "source": [
        "# creating a data frame by passing a NumPy array and datetime index\n",
        "dates = pd.date_range('2022.1.1', periods=365)\n",
        "dates"
      ],
      "execution_count": null,
      "outputs": []
    },
    {
      "cell_type": "code",
      "source": [
        "pd.date_range('2022', periods=365)"
      ],
      "metadata": {
        "id": "3XHvZptNBCCp"
      },
      "execution_count": null,
      "outputs": []
    },
    {
      "cell_type": "code",
      "metadata": {
        "id": "rK04Ih4zFaR1"
      },
      "source": [
        "dates"
      ],
      "execution_count": null,
      "outputs": []
    },
    {
      "cell_type": "code",
      "metadata": {
        "id": "UaGRt3ofFaR1"
      },
      "source": [
        "df = pd.DataFrame(np.random.randn(365, 5), index=dates, columns=list('ABCDE'))"
      ],
      "execution_count": null,
      "outputs": []
    },
    {
      "cell_type": "code",
      "metadata": {
        "id": "wsVdP4eGFaR2"
      },
      "source": [
        "df.head()"
      ],
      "execution_count": null,
      "outputs": []
    },
    {
      "cell_type": "code",
      "metadata": {
        "id": "_6IdCndFFaR2"
      },
      "source": [
        "# creating a data frame with heterogeneous columns\n",
        "df = pd.DataFrame({'A': pd.Timestamp('20180607'),\n",
        "                   'B': np.array([1, 2, 3]), \n",
        "                   'C': pd.Categorical(['Monday', 'Tuesday', 'Wednesday']), \n",
        "                   'D': 'foo'})\n",
        "df.dtypes"
      ],
      "execution_count": null,
      "outputs": []
    },
    {
      "cell_type": "markdown",
      "metadata": {
        "id": "O_0_3cCOFaR2"
      },
      "source": [
        "### Viewing data"
      ]
    },
    {
      "cell_type": "code",
      "metadata": {
        "id": "UiA7Jy16FaR2"
      },
      "source": [
        "# viewing the top and bottom rows of a data frame\n",
        "dates = pd.date_range('20180101', periods=7)\n",
        "\n",
        "df = pd.DataFrame(np.random.randn(7, 5), index=dates, columns=list('ABCDE'))\n",
        "\n",
        "print('\\ndf.head():\\n', df.head(3))\n",
        "print('\\ndf.tail():\\n', df.tail(3))"
      ],
      "execution_count": null,
      "outputs": []
    },
    {
      "cell_type": "code",
      "metadata": {
        "id": "PtN1QrhGFaR2"
      },
      "source": [
        "# displaying the index, columns, and underlying NumPy data\n",
        "df.index"
      ],
      "execution_count": null,
      "outputs": []
    },
    {
      "cell_type": "code",
      "metadata": {
        "id": "a2TrZQWWFaR2"
      },
      "source": [
        "df.columns"
      ],
      "execution_count": null,
      "outputs": []
    },
    {
      "cell_type": "code",
      "metadata": {
        "id": "fOoMXc9MFaR2"
      },
      "source": [
        "df.values"
      ],
      "execution_count": null,
      "outputs": []
    },
    {
      "cell_type": "code",
      "metadata": {
        "id": "NsjmqnDJFaR2"
      },
      "source": [
        "# quick statistics summary of the data\n",
        "df.describe()"
      ],
      "execution_count": null,
      "outputs": []
    },
    {
      "cell_type": "code",
      "metadata": {
        "id": "xuKTejrBFaR4"
      },
      "source": [
        "# the transpose of the data\n",
        "df.T"
      ],
      "execution_count": null,
      "outputs": []
    },
    {
      "cell_type": "code",
      "metadata": {
        "id": "gRwufvikFaR4"
      },
      "source": [
        "# sorting by axis\n",
        "df.sort_index(axis=1, ascending=False)"
      ],
      "execution_count": null,
      "outputs": []
    },
    {
      "cell_type": "code",
      "metadata": {
        "id": "M-Q4iqJaFaR4"
      },
      "source": [
        "# sorting by values\n",
        "df.sort_values(by='A')"
      ],
      "execution_count": null,
      "outputs": []
    },
    {
      "cell_type": "markdown",
      "metadata": {
        "id": "LY-QgGuYFaR4"
      },
      "source": [
        "### Selection"
      ]
    },
    {
      "cell_type": "markdown",
      "metadata": {
        "id": "ZKEbHw5tFaR4"
      },
      "source": [
        "###### Getting"
      ]
    },
    {
      "cell_type": "code",
      "metadata": {
        "id": "BNWw37XSFaR4"
      },
      "source": [
        "# select an column\n",
        "df['A']"
      ],
      "execution_count": null,
      "outputs": []
    },
    {
      "cell_type": "code",
      "metadata": {
        "id": "8JCY7vNaFaR4"
      },
      "source": [
        "# select rows by slicing\n",
        "df[0:3]"
      ],
      "execution_count": null,
      "outputs": []
    },
    {
      "cell_type": "markdown",
      "metadata": {
        "id": "9Fp4_d0UFaR4"
      },
      "source": [
        "###### Selection by label"
      ]
    },
    {
      "cell_type": "code",
      "metadata": {
        "id": "rNKH_l_BFaR4"
      },
      "source": [
        "df.loc[dates[0]]"
      ],
      "execution_count": null,
      "outputs": []
    },
    {
      "cell_type": "code",
      "metadata": {
        "id": "E3eYpa8yFaR4"
      },
      "source": [
        "df.loc[:, ['A', 'B', 'C']] # select all rows, columns A, B, and C"
      ],
      "execution_count": null,
      "outputs": []
    },
    {
      "cell_type": "code",
      "metadata": {
        "id": "JTpwOfwdFaR4"
      },
      "source": [
        "# select by row labels and column labels\n",
        "df.loc['20180101':'20180105', ['A', 'B', 'C']]"
      ],
      "execution_count": null,
      "outputs": []
    },
    {
      "cell_type": "code",
      "metadata": {
        "id": "JfGdg_EqFaR4"
      },
      "source": [
        "# fast access to a scalar value\n",
        "df.at[dates[0], 'A']"
      ],
      "execution_count": null,
      "outputs": []
    },
    {
      "cell_type": "markdown",
      "metadata": {
        "id": "gv9QW0qKFaR4"
      },
      "source": [
        "###### Selection by position"
      ]
    },
    {
      "cell_type": "code",
      "metadata": {
        "id": "ZbuQI1YpFaR4"
      },
      "source": [
        "df.iloc[0:3, 0:3]"
      ],
      "execution_count": null,
      "outputs": []
    },
    {
      "cell_type": "code",
      "metadata": {
        "id": "vU7x78ePFaR4"
      },
      "source": [
        "# arbitrarily selecting by row and column indices\n",
        "df.iloc[[0, 1, 3],[0, 2, 3]]"
      ],
      "execution_count": null,
      "outputs": []
    },
    {
      "cell_type": "code",
      "metadata": {
        "id": "iqDLthsJFaR4"
      },
      "source": [
        "# we can slice by rows or columns\n",
        "col_1 = df.iloc[:, 0] # first column\n",
        "row_1 = df.iloc[0, :] # first row\n",
        "\n",
        "print('\\nColumn 1:\\n', col_1.values)\n",
        "print('\\nRow 1:\\n', row_1.values)"
      ],
      "execution_count": null,
      "outputs": []
    },
    {
      "cell_type": "code",
      "metadata": {
        "id": "TH-rk8I9FaR5"
      },
      "source": [
        "# again, getting fast access to a scalar\n",
        "df.iat[0, 0]"
      ],
      "execution_count": null,
      "outputs": []
    },
    {
      "cell_type": "markdown",
      "metadata": {
        "id": "vwomCeTLFaR5"
      },
      "source": [
        "###### Boolean indexing"
      ]
    },
    {
      "cell_type": "code",
      "metadata": {
        "id": "JVnWQkiqFaR5"
      },
      "source": [
        "days = ['Sun', 'Mon', 'Tue', 'Wed', 'Thu', 'Fri', 'Sat']\n",
        "weeks = np.array([str(2000 + x) for x in range(10)])\n",
        "\n",
        "# average car crashes by day of week per year (random)\n",
        "data = np.floor(np.abs(10*np.random.randn(10, 7)))\n",
        "\n",
        "df = pd.DataFrame(data, index=weeks, columns=days)\n",
        "\n",
        "# Select all years where average # crashes on Sundays > 10   \n",
        "print(df[df['Sun'] > 5])"
      ],
      "execution_count": null,
      "outputs": []
    },
    {
      "cell_type": "code",
      "source": [
        "df"
      ],
      "metadata": {
        "id": "ykuFR1el3cPU"
      },
      "execution_count": null,
      "outputs": []
    },
    {
      "cell_type": "markdown",
      "metadata": {
        "id": "uqg4RG_NFaR5"
      },
      "source": [
        "###### Setting"
      ]
    },
    {
      "cell_type": "code",
      "metadata": {
        "id": "G77uoSZ8FaR5"
      },
      "source": [
        "# use df.loc[] to set by row or column name\n",
        "\n",
        "# set first column all to 0's\n",
        "df.loc[:, ['Sun']] = np.zeros((10, 1))\n",
        "\n",
        "# set first row all to 1's\n",
        "df.loc['2000', :] = np.ones((1, 7))"
      ],
      "execution_count": null,
      "outputs": []
    },
    {
      "cell_type": "code",
      "metadata": {
        "id": "7_EVLMH2FaR5"
      },
      "source": [
        "df"
      ],
      "execution_count": null,
      "outputs": []
    },
    {
      "cell_type": "code",
      "metadata": {
        "id": "0qwGc2rTFaR5"
      },
      "source": [
        "# use df.iloc[] to set by row or column index\n",
        "\n",
        "# set first column to all 1's\n",
        "df.iloc[:, 0] = np.ones((10, 1))\n",
        "\n",
        "# set first row to all 0's\n",
        "df.iloc[0, :] = np.zeros((1, 7))"
      ],
      "execution_count": null,
      "outputs": []
    },
    {
      "cell_type": "code",
      "metadata": {
        "id": "cdst3ZYMFaR5"
      },
      "source": [
        "df"
      ],
      "execution_count": null,
      "outputs": []
    },
    {
      "cell_type": "markdown",
      "metadata": {
        "id": "vu32rAmfFaR5"
      },
      "source": [
        "### Missing data"
      ]
    },
    {
      "cell_type": "code",
      "metadata": {
        "id": "M85Jct8KFaR5"
      },
      "source": [
        "# set some missing values\n",
        "df.iloc[0, 0] = float('nan')\n",
        "df.iloc[1, 2] = float('nan')\n",
        "df.iloc[2, 0] = float('nan')\n",
        "df.iloc[3, 5] = float('nan')\n",
        "df.iloc[9, 3] = float('nan')"
      ],
      "execution_count": null,
      "outputs": []
    },
    {
      "cell_type": "code",
      "metadata": {
        "id": "NxsPdDdIFaR5"
      },
      "source": [
        "df"
      ],
      "execution_count": null,
      "outputs": []
    },
    {
      "cell_type": "code",
      "metadata": {
        "id": "X-UtY-dxFaR5"
      },
      "source": [
        "# we can drop rows that have missing data using dropna(how='any')\n",
        "#df.dropna(how='any')"
      ],
      "execution_count": null,
      "outputs": []
    },
    {
      "cell_type": "code",
      "metadata": {
        "id": "ZWVYCHi0FaR5"
      },
      "source": [
        "# fill missing data (returns a COPY of df)\n",
        "\n",
        "df_copy = df.fillna(value=1.0)"
      ],
      "execution_count": null,
      "outputs": []
    },
    {
      "cell_type": "code",
      "metadata": {
        "id": "kI1XLYwNFaR5"
      },
      "source": [
        "df_copy"
      ],
      "execution_count": null,
      "outputs": []
    },
    {
      "cell_type": "code",
      "metadata": {
        "id": "kVbQR432FaR5"
      },
      "source": [
        "# get boolean mask of missing values: True--NaN, False--Otherwise\n",
        "bool_mask = pd.isna(df)"
      ],
      "execution_count": null,
      "outputs": []
    },
    {
      "cell_type": "code",
      "metadata": {
        "id": "G_MndxoVFaR6"
      },
      "source": [
        "bool_mask"
      ],
      "execution_count": null,
      "outputs": []
    },
    {
      "cell_type": "markdown",
      "metadata": {
        "id": "7lybApt3FaR6"
      },
      "source": [
        "### Operations\n",
        "\n",
        "In general, operations on Panda data frames EXCLUDE missing data"
      ]
    },
    {
      "cell_type": "markdown",
      "metadata": {
        "id": "UeNmw7gaFaR6"
      },
      "source": [
        "###### Stats"
      ]
    },
    {
      "cell_type": "code",
      "metadata": {
        "id": "dgFUMl0GFaR6"
      },
      "source": [
        "df.describe()"
      ],
      "execution_count": null,
      "outputs": []
    },
    {
      "cell_type": "code",
      "metadata": {
        "id": "p6PDH78GFaR6"
      },
      "source": [
        "df.mean()"
      ],
      "execution_count": null,
      "outputs": []
    },
    {
      "cell_type": "markdown",
      "metadata": {
        "id": "IFAgjGqdFaR6"
      },
      "source": [
        "###### Apply"
      ]
    },
    {
      "cell_type": "code",
      "metadata": {
        "id": "pmdIrQ4VFaR6"
      },
      "source": [
        "# we can apply functions to all the data in the data frame\n",
        "df = df.apply(np.sqrt)\n",
        "df"
      ],
      "execution_count": null,
      "outputs": []
    },
    {
      "cell_type": "markdown",
      "metadata": {
        "id": "ltnkXVcCFaR6"
      },
      "source": [
        "###### Histrogramming"
      ]
    },
    {
      "cell_type": "code",
      "metadata": {
        "id": "E8-PJToaFaR6"
      },
      "source": [
        "s = pd.Series(np.random.randint(0, 7, size=10))\n",
        "s.value_counts()"
      ],
      "execution_count": null,
      "outputs": []
    },
    {
      "cell_type": "markdown",
      "metadata": {
        "id": "HOla8NCeFaR6"
      },
      "source": [
        "###### String methods"
      ]
    },
    {
      "cell_type": "code",
      "metadata": {
        "id": "ubm3ibMWFaR6"
      },
      "source": [
        "s = pd.Series(['Sun', 'Mon', 'Tue', 'Wed', 'Thu', 'Fri', 'Sat'])\n",
        "print(s, end='\\n\\n')\n",
        "print(s.str.lower())"
      ],
      "execution_count": null,
      "outputs": []
    },
    {
      "cell_type": "markdown",
      "metadata": {
        "id": "TNlCpQHGFaR7"
      },
      "source": [
        "### Merge"
      ]
    },
    {
      "cell_type": "markdown",
      "metadata": {
        "id": "WkdhsxYRFaR7"
      },
      "source": [
        "###### Concat"
      ]
    },
    {
      "cell_type": "code",
      "metadata": {
        "id": "-pH0386OFaR7"
      },
      "source": [
        "df = pd.DataFrame(np.random.randn(3, 5))\n",
        "print('Original:\\n\\n', df, end='\\n\\n')\n",
        "pieces = [df[0:1], df[1:2], df[2:3]]\n",
        "print('Pieces:\\n\\n', pieces, end='\\n\\n')\n",
        "concat = pd.concat(pieces)\n",
        "print('Concatenation:\\n\\n', concat)"
      ],
      "execution_count": null,
      "outputs": []
    },
    {
      "cell_type": "markdown",
      "metadata": {
        "id": "XFqSUFlsFaR7"
      },
      "source": [
        "###### Append"
      ]
    },
    {
      "cell_type": "code",
      "metadata": {
        "id": "jdUGSLZyFaR7"
      },
      "source": [
        "df = pd.DataFrame(np.ones((3, 3)), columns=list('ABC'))\n",
        "new_row = pd.DataFrame(np.zeros((1, 3)), columns=list('ABC'))\n",
        "\n",
        "# append new row\n",
        "df = df.append(new_row, ignore_index=True)\n",
        "\n",
        "# append new column\n",
        "new_col = pd.DataFrame(np.zeros((4, 1)))\n",
        "\n",
        "df['D'] = new_col\n",
        "\n",
        "df"
      ],
      "execution_count": null,
      "outputs": []
    },
    {
      "cell_type": "markdown",
      "metadata": {
        "id": "vD5sVsB3FaR7"
      },
      "source": [
        "### Grouping"
      ]
    },
    {
      "cell_type": "code",
      "metadata": {
        "id": "xvxmWVn3FaR7"
      },
      "source": [
        "# applying a function to a group of data in df\n",
        "df.groupby('A').sum()"
      ],
      "execution_count": null,
      "outputs": []
    },
    {
      "cell_type": "markdown",
      "metadata": {
        "id": "2gfHfjcgFaR7"
      },
      "source": [
        "### Reshaping"
      ]
    },
    {
      "cell_type": "markdown",
      "metadata": {
        "id": "oJLJ71wxFaR7"
      },
      "source": [
        "###### Pivot tables"
      ]
    },
    {
      "cell_type": "code",
      "metadata": {
        "id": "A_B1Z3KlFaR7"
      },
      "source": [
        "df = pd.DataFrame({'A' : ['one', 'one', 'two', 'three'] * 3, \n",
        "                   'B' : ['A', 'B', 'C'] * 4,\n",
        "                   'C' : ['foo', 'foo', 'foo', 'bar', 'bar', 'bar'] * 2, \n",
        "                   'D' : np.random.randn(12), 'E' : np.random.randn(12)})\n",
        "\n",
        "piv_table = pd.pivot_table(df, values='D', index=['A', 'B'], columns=['C'])\n",
        "piv_table"
      ],
      "execution_count": null,
      "outputs": []
    },
    {
      "cell_type": "markdown",
      "metadata": {
        "id": "MC8Lqk8BFaR7"
      },
      "source": [
        "### Categoricals"
      ]
    },
    {
      "cell_type": "code",
      "metadata": {
        "id": "EqTF3VzZFaR7"
      },
      "source": [
        "df = pd.DataFrame({'students':['Mark', 'John', 'Mary', 'Susan'], \n",
        "                   'grades':['C+', 'A', 'B-', 'A-']})\n",
        "\n",
        "df"
      ],
      "execution_count": null,
      "outputs": []
    },
    {
      "cell_type": "code",
      "metadata": {
        "id": "xFh1bkUpFaR7"
      },
      "source": [
        "df['students']"
      ],
      "execution_count": null,
      "outputs": []
    },
    {
      "cell_type": "code",
      "metadata": {
        "id": "YNO84Wk_FaR7"
      },
      "source": [
        "df['curved grade'] = ['B-', 'A', 'B', 'A']\n",
        "df"
      ],
      "execution_count": null,
      "outputs": []
    },
    {
      "cell_type": "code",
      "metadata": {
        "id": "H4suOyqxFaR7"
      },
      "source": [
        "df['raw grades'] = df['grades'].astype(\"category\")\n",
        "df['raw grades']"
      ],
      "execution_count": null,
      "outputs": []
    },
    {
      "cell_type": "code",
      "metadata": {
        "id": "y7QjDde6FaR7"
      },
      "source": [
        "# we can rename the categories inplace by using cat.categories\n",
        "df['raw grades'].cat.categories = ['excellent', 'very good', 'good', 'okay']\n",
        "df['raw grades']"
      ],
      "execution_count": null,
      "outputs": []
    },
    {
      "cell_type": "code",
      "metadata": {
        "id": "CbNnT2CVFaR7"
      },
      "source": [
        "df.sort_values(by='grades')"
      ],
      "execution_count": null,
      "outputs": []
    },
    {
      "cell_type": "markdown",
      "metadata": {
        "id": "nbdN7kllFaR8"
      },
      "source": [
        "### Getting data in/out"
      ]
    },
    {
      "cell_type": "markdown",
      "metadata": {
        "id": "3daOVSVMFaR8"
      },
      "source": [
        "###### CSV"
      ]
    },
    {
      "cell_type": "code",
      "metadata": {
        "id": "KIt3EEWgFaR9"
      },
      "source": [
        "# writing to a csv file\n",
        "df.to_csv('class.csv')"
      ],
      "execution_count": null,
      "outputs": []
    },
    {
      "cell_type": "code",
      "metadata": {
        "id": "pFdCi6VaFaR9"
      },
      "source": [
        "# reading from a csv file\n",
        "pd.read_csv('class.csv')"
      ],
      "execution_count": null,
      "outputs": []
    },
    {
      "cell_type": "markdown",
      "metadata": {
        "id": "mtG2bSdzFaR9"
      },
      "source": [
        "###### Excel"
      ]
    },
    {
      "cell_type": "code",
      "metadata": {
        "id": "JNAdgbuNFaR9"
      },
      "source": [
        "# writing to an excel file\n",
        "# NOTE: need openpyxl module for this operation\n",
        "#df.to_excel('foo.xlsx', sheet_name='Sheet1')"
      ],
      "execution_count": null,
      "outputs": []
    },
    {
      "cell_type": "code",
      "metadata": {
        "id": "Q4uzhSrZFaR9"
      },
      "source": [],
      "execution_count": null,
      "outputs": []
    }
  ]
}