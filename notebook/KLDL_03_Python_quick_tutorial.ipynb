{
  "nbformat": 4,
  "nbformat_minor": 0,
  "metadata": {
    "colab": {
      "provenance": []
    },
    "kernelspec": {
      "display_name": "Python 3",
      "language": "python",
      "name": "python3"
    },
    "language_info": {
      "codemirror_mode": {
        "name": "ipython",
        "version": 3
      },
      "file_extension": ".py",
      "mimetype": "text/x-python",
      "name": "python",
      "nbconvert_exporter": "python",
      "pygments_lexer": "ipython3",
      "version": "3.7.6"
    }
  },
  "cells": [
    {
      "cell_type": "markdown",
      "metadata": {
        "id": "EUjJ7ImLnPVr"
      },
      "source": [
        "<img src=\"https://i.ibb.co/qjt4Ymb/2022-09-19-004719.png\" alt=\"2022-09-19-004719\" border=\"0\">\n",
        "\n",
        "# Topic 03: Python quick tutorial\n"
      ]
    },
    {
      "cell_type": "markdown",
      "metadata": {
        "id": "Zk0MAMNlo_gx"
      },
      "source": [
        "## Python & Colab 介紹\n",
        "Python (https://www.python.org/) is a scripting language, which means that a single line of instructions can be executed.\n",
        "\n",
        "Google Colab (https://colab.research.google.com/) provides the easiest way to write and execute the Python programming language. Each of the following code cells can be executed independently. For larger programs, the program can be executed across blocks.\n",
        "\n",
        "Python is an easy-to-learn, powerful programming language. In this course, we will introduce the basic syntax of Python (variables, operations, process control and data structure), etc., so that students can use it as the basis for learning advanced data science or deep learning courses in the future.\n",
        "\n",
        "Completing the first program is very simple. In all programming languages, the first program is called the Hello program. Python's Hello program is super simple, which is the following line:\n",
        "\n",
        "```\n",
        "print('Hello World')\n",
        "```\n",
        "\n"
      ]
    },
    {
      "cell_type": "code",
      "metadata": {
        "id": "X-HFB-nRrGDe",
        "colab": {
          "base_uri": "https://localhost:8080/"
        },
        "outputId": "3b359fc3-0e86-45ac-9341-b121fb59400c"
      },
      "source": [
        "#把Hello World程式貼在這個下面，然後按左側的執行鍵或(Ctrl+Enter鍵)....\n",
        "print('Hello World')"
      ],
      "execution_count": null,
      "outputs": [
        {
          "output_type": "stream",
          "name": "stdout",
          "text": [
            "Hello World\n"
          ]
        }
      ]
    },
    {
      "cell_type": "markdown",
      "metadata": {
        "id": "g-ZT0jKHrSts"
      },
      "source": [
        "在上面程式，我們使用了一個函數print()，print會合併其輸入的參數，然後，輸出一行的文字。\n",
        "\n",
        "下面我們有各種Hello World程式的變型。大家可以觀察其不同。\n"
      ]
    },
    {
      "cell_type": "markdown",
      "source": [
        "## Python variables and operations \n",
        "\n",
        "![image](https://i.ibb.co/vQ5ngXy/IPO-1.png)"
      ],
      "metadata": {
        "id": "eKlrQVs2iP5J"
      }
    },
    {
      "cell_type": "markdown",
      "source": [
        "Python uses the input() function to read input data.\n",
        "\n",
        "A single call to the input() function will input a string.\n",
        " \n",
        "If we were to enter an integer or float. You can use the int() or float() functions函數"
      ],
      "metadata": {
        "id": "zh0V-6MTiaf7"
      }
    },
    {
      "cell_type": "code",
      "source": [
        "instr = input('Please input your score：')\n",
        "score = int(instr) #Integer\n",
        "print(score) # print the value of the variable\n",
        "print(type(score)) # print the type of the variable"
      ],
      "metadata": {
        "id": "8kzBNxX8idFK",
        "colab": {
          "base_uri": "https://localhost:8080/"
        },
        "outputId": "cb5ffd41-87af-4e0b-e17c-fa5d49d1264c"
      },
      "execution_count": null,
      "outputs": [
        {
          "output_type": "stream",
          "name": "stdout",
          "text": [
            "Please input your score：88\n",
            "88\n",
            "<class 'int'>\n"
          ]
        }
      ]
    },
    {
      "cell_type": "markdown",
      "source": [
        "Arithmetic Operators and Expressions\n",
        "Arithmetic Operators\n",
        "````\n",
        "+ - * / #Add, subtract, multiply and divide\n",
        "** #power\n",
        "// #business\n",
        "%  #remainder\n",
        "````"
      ],
      "metadata": {
        "id": "9dyhDBP3igFm"
      }
    },
    {
      "cell_type": "code",
      "source": [
        "print(1 + 2)\n",
        "print(3 - 4)\n",
        "print(5 * 6)\n",
        "print(12 / 5)"
      ],
      "metadata": {
        "id": "aufzPBGZiolH",
        "colab": {
          "base_uri": "https://localhost:8080/"
        },
        "outputId": "93fd1911-c79f-442d-f92f-1e2bb0cabfe6"
      },
      "execution_count": null,
      "outputs": [
        {
          "output_type": "stream",
          "name": "stdout",
          "text": [
            "3\n",
            "-1\n",
            "30\n",
            "2.4\n"
          ]
        }
      ]
    },
    {
      "cell_type": "code",
      "source": [
        "print(23 / 5)\n",
        "print(23 // 5)\n",
        "print(23 % 5)"
      ],
      "metadata": {
        "id": "zkBMZ2MOiqxK",
        "colab": {
          "base_uri": "https://localhost:8080/"
        },
        "outputId": "303143c6-fa8e-48f9-f1f7-6f3932a08468"
      },
      "execution_count": null,
      "outputs": [
        {
          "output_type": "stream",
          "name": "stdout",
          "text": [
            "4.6\n",
            "4\n",
            "3\n"
          ]
        }
      ]
    },
    {
      "cell_type": "code",
      "source": [
        "print(23 * 2)\n",
        "print(23 ** 2)"
      ],
      "metadata": {
        "id": "VrzNPTzfitMr",
        "colab": {
          "base_uri": "https://localhost:8080/"
        },
        "outputId": "cea9fac7-b9af-4a63-eff5-c9ae19daba43"
      },
      "execution_count": null,
      "outputs": [
        {
          "output_type": "stream",
          "name": "stdout",
          "text": [
            "46\n",
            "529\n"
          ]
        }
      ]
    },
    {
      "cell_type": "markdown",
      "source": [
        "## Atandard math library \n",
        "* Calculate pi and sin($\\pi/3$) functions\n",
        "* use import and as"
      ],
      "metadata": {
        "id": "Bd0H5BMwjFv5"
      }
    },
    {
      "cell_type": "code",
      "source": [
        "pi = 3.14159\n",
        "sin(pi/3)"
      ],
      "metadata": {
        "id": "R1efRBhWjHOr",
        "colab": {
          "base_uri": "https://localhost:8080/",
          "height": 185
        },
        "outputId": "75145c75-53f2-44d2-9a36-8677926452f4"
      },
      "execution_count": null,
      "outputs": [
        {
          "output_type": "error",
          "ename": "NameError",
          "evalue": "ignored",
          "traceback": [
            "\u001b[0;31m---------------------------------------------------------------------------\u001b[0m",
            "\u001b[0;31mNameError\u001b[0m                                 Traceback (most recent call last)",
            "\u001b[0;32m<ipython-input-6-bd6ac0587a7c>\u001b[0m in \u001b[0;36m<module>\u001b[0;34m\u001b[0m\n\u001b[1;32m      1\u001b[0m \u001b[0mpi\u001b[0m \u001b[0;34m=\u001b[0m \u001b[0;36m3.14159\u001b[0m\u001b[0;34m\u001b[0m\u001b[0;34m\u001b[0m\u001b[0m\n\u001b[0;32m----> 2\u001b[0;31m \u001b[0msin\u001b[0m\u001b[0;34m(\u001b[0m\u001b[0mpi\u001b[0m\u001b[0;34m/\u001b[0m\u001b[0;36m3\u001b[0m\u001b[0;34m)\u001b[0m\u001b[0;34m\u001b[0m\u001b[0;34m\u001b[0m\u001b[0m\n\u001b[0m",
            "\u001b[0;31mNameError\u001b[0m: name 'sin' is not defined"
          ]
        }
      ]
    },
    {
      "cell_type": "code",
      "source": [
        "import math\n",
        "print(math.pi)\n",
        "print(math.sin(math.pi/3))"
      ],
      "metadata": {
        "id": "Qvj2NsrZjg_w",
        "colab": {
          "base_uri": "https://localhost:8080/"
        },
        "outputId": "c69b7d35-870e-4739-93f4-a038e76cde82"
      },
      "execution_count": null,
      "outputs": [
        {
          "output_type": "stream",
          "name": "stdout",
          "text": [
            "3.141592653589793\n",
            "0.8660254037844386\n"
          ]
        }
      ]
    },
    {
      "cell_type": "code",
      "source": [
        "import math as m\n",
        "print(m.pi)\n",
        "print(m.sin(m.pi/3))"
      ],
      "metadata": {
        "id": "VrqGsGI6jivN",
        "colab": {
          "base_uri": "https://localhost:8080/"
        },
        "outputId": "74052e43-2bda-4eae-969c-978be9620810"
      },
      "execution_count": null,
      "outputs": [
        {
          "output_type": "stream",
          "name": "stdout",
          "text": [
            "3.141592653589793\n",
            "0.8660254037844386\n"
          ]
        }
      ]
    },
    {
      "cell_type": "code",
      "source": [
        "import math as m\n",
        "print(m.degrees((math.pi/3)))\n",
        "print(m.radians(60))"
      ],
      "metadata": {
        "id": "S7LolkEwjkB0",
        "colab": {
          "base_uri": "https://localhost:8080/"
        },
        "outputId": "328915a4-9357-49f7-d3b3-18910d5f239d"
      },
      "execution_count": null,
      "outputs": [
        {
          "output_type": "stream",
          "name": "stdout",
          "text": [
            "59.99999999999999\n",
            "1.0471975511965976\n"
          ]
        }
      ]
    },
    {
      "cell_type": "markdown",
      "source": [
        "## Python basic data structure and simple flow control\n",
        "\n",
        "![image](https://i.ibb.co/M1XgBz2/IPO-2.png)\n",
        "\n",
        "There are three types of parentheses in the Python language,\n",
        "The parentheses () represent the tuple data type, the square brackets [ ] represent the list data type, and the curly brackets { } represent the dictionary (dict) or set (set) data type. Here, we first introduce the most common data type series (List)…\n",
        "\n",
        "\n",
        "<img src=\"https://i1.faceprep.in/Companies-1/lists-in-python.png\" alt=\"img\" border=\"0\" width=\"500\">\n",
        "\n"
      ],
      "metadata": {
        "id": "fNlJcPzMj6F-"
      }
    },
    {
      "cell_type": "code",
      "source": [
        "student0 = 'John'; student1 = 'Mary'; student2 = 'Ken'\n",
        "print('Hello', student0)\n",
        "print('Hello', student1)\n",
        "print('Hello', student2)"
      ],
      "metadata": {
        "id": "4MDy91SOkM4t",
        "colab": {
          "base_uri": "https://localhost:8080/"
        },
        "outputId": "0c66c84f-f09e-44fe-af8c-a93d231c8ae8"
      },
      "execution_count": null,
      "outputs": [
        {
          "output_type": "stream",
          "name": "stdout",
          "text": [
            "Hello John\n",
            "Hello Mary\n",
            "Hello Ken\n"
          ]
        }
      ]
    },
    {
      "cell_type": "code",
      "source": [
        "# positive   0    1    2\n",
        "# negative  -3    -2   -1\n",
        "students = ['John', 'Mary', 'Ken']\n",
        "print('Hello', students[0])\n",
        "print('Hello', students[1])\n",
        "print('Hello', students[2])"
      ],
      "metadata": {
        "id": "s3lgCZ46kPPi",
        "colab": {
          "base_uri": "https://localhost:8080/"
        },
        "outputId": "08c1daab-5a00-4354-ceb9-0eb3f40fc673"
      },
      "execution_count": null,
      "outputs": [
        {
          "output_type": "stream",
          "name": "stdout",
          "text": [
            "Hello John\n",
            "Hello Mary\n",
            "Hello Ken\n"
          ]
        }
      ]
    },
    {
      "cell_type": "code",
      "source": [
        "print('Hello', students[-3])\n",
        "print('Hello', students[-2])\n",
        "print('Hello', students[-1])"
      ],
      "metadata": {
        "colab": {
          "base_uri": "https://localhost:8080/"
        },
        "id": "-LJcZkFHqyAz",
        "outputId": "83548256-8bc8-43f9-e35c-cc903018b41f"
      },
      "execution_count": null,
      "outputs": [
        {
          "output_type": "stream",
          "name": "stdout",
          "text": [
            "Hello John\n",
            "Hello Mary\n",
            "Hello Ken\n"
          ]
        }
      ]
    },
    {
      "cell_type": "code",
      "source": [
        "students.append('Lily')\n",
        "print(students)\n",
        "print(len(students))"
      ],
      "metadata": {
        "id": "Dc1GVcdOkSiA",
        "colab": {
          "base_uri": "https://localhost:8080/"
        },
        "outputId": "9979c093-de75-4047-8ed7-791625eb688b"
      },
      "execution_count": null,
      "outputs": [
        {
          "output_type": "stream",
          "name": "stdout",
          "text": [
            "['John', 'Mary', 'Ken', 'Lily']\n",
            "4\n"
          ]
        }
      ]
    },
    {
      "cell_type": "markdown",
      "source": [
        "## String\n",
        "\n",
        "* A string can be thought of as a list of characters that are concatenated together.\n",
        "* Use + to connect strings\n",
        "* Use split() to split the substring"
      ],
      "metadata": {
        "id": "wlJkHJjjlFif"
      }
    },
    {
      "cell_type": "code",
      "source": [
        "print('Hello '+'World!')\n",
        "print(\"Hello\", end=\" \");  print(\"World!\")"
      ],
      "metadata": {
        "id": "GhdhXDChkWQ8",
        "colab": {
          "base_uri": "https://localhost:8080/"
        },
        "outputId": "784f743d-9b15-4253-c38e-4b4142460cf2"
      },
      "execution_count": null,
      "outputs": [
        {
          "output_type": "stream",
          "name": "stdout",
          "text": [
            "Hello World!\n",
            "Hello World!\n"
          ]
        }
      ]
    },
    {
      "cell_type": "code",
      "source": [
        "# input 3 5 \n",
        "paras = input().split()\n",
        "a = int(paras[0])\n",
        "b = int(paras[1])\n",
        "print(a + b)"
      ],
      "metadata": {
        "id": "7G3anJvYlcGJ",
        "colab": {
          "base_uri": "https://localhost:8080/"
        },
        "outputId": "b88a4071-a336-43b6-9836-5e06f219f63e"
      },
      "execution_count": null,
      "outputs": [
        {
          "output_type": "stream",
          "name": "stdout",
          "text": [
            "3 5\n",
            "8\n"
          ]
        }
      ]
    },
    {
      "cell_type": "markdown",
      "source": [
        "## For-loop\n",
        "* use loop on list variable\n",
        "* Use loop for range() function\n",
        "\n",
        "<img src=\"https://i.ibb.co/fqwHZzr/forloop.jpg\" alt=\"forloop\" border=\"0\">"
      ],
      "metadata": {
        "id": "bsVawOkklXrm"
      }
    },
    {
      "cell_type": "code",
      "source": [
        "numbers = [1, 2, 3, 4, 5, 6, 7, 8, 9]\n",
        "for number in numbers:\n",
        "  print(number, end=' ')"
      ],
      "metadata": {
        "id": "D9VNZamwl11S",
        "colab": {
          "base_uri": "https://localhost:8080/"
        },
        "outputId": "274557ef-ff15-4aec-cd7e-ec395b3e277f"
      },
      "execution_count": null,
      "outputs": [
        {
          "output_type": "stream",
          "name": "stdout",
          "text": [
            "1 2 3 4 5 6 7 8 9 "
          ]
        }
      ]
    },
    {
      "cell_type": "code",
      "source": [
        "for number in range(1, 10, 1):\n",
        "  print(number, end=' ')"
      ],
      "metadata": {
        "id": "JibeITHxl4wx",
        "colab": {
          "base_uri": "https://localhost:8080/"
        },
        "outputId": "55de9cbb-7901-4b94-8c76-bf8e52a6f645"
      },
      "execution_count": null,
      "outputs": [
        {
          "output_type": "stream",
          "name": "stdout",
          "text": [
            "1 2 3 4 5 6 7 8 9 "
          ]
        }
      ]
    },
    {
      "cell_type": "markdown",
      "source": [
        "## If condition statement\n",
        "<img src=\"https://i.ibb.co/sv727Wq/if-condition.png\" alt=\"alt text\" width=\"500\">"
      ],
      "metadata": {
        "id": "55rvqMrRn4kl"
      }
    },
    {
      "cell_type": "code",
      "source": [
        "print(True) \n",
        "print(False) "
      ],
      "metadata": {
        "id": "V5Eiu7RjoAdN",
        "colab": {
          "base_uri": "https://localhost:8080/"
        },
        "outputId": "e91ff71a-276c-41de-d0d1-c0bd656d6b15"
      },
      "execution_count": null,
      "outputs": [
        {
          "output_type": "stream",
          "name": "stdout",
          "text": [
            "True\n",
            "False\n"
          ]
        }
      ]
    },
    {
      "cell_type": "code",
      "source": [
        "bmi = float(input(\"Input yout bmi\"))\n",
        "if bmi>30.0:\n",
        "  print(\"Obesity\")"
      ],
      "metadata": {
        "id": "KOo3CPRsoCUn",
        "colab": {
          "base_uri": "https://localhost:8080/"
        },
        "outputId": "e8d66a49-dd4c-4e00-9441-7bd2d1848f12"
      },
      "execution_count": null,
      "outputs": [
        {
          "output_type": "stream",
          "name": "stdout",
          "text": [
            "Input yout bmi40\n",
            "Obesity\n"
          ]
        }
      ]
    },
    {
      "cell_type": "code",
      "source": [
        "bmi = float(input(\"Input yout bmi\"))\n",
        "if bmi>24.0:\n",
        "  print(\"Overweight\")\n",
        "elif bmi<18.5:\n",
        "  print(\"Underweight\")\n",
        "else:\n",
        "  print(\"Healthy weight\")"
      ],
      "metadata": {
        "id": "HZv45H9hoECx",
        "colab": {
          "base_uri": "https://localhost:8080/"
        },
        "outputId": "7a5e84e9-004a-43f3-be91-aad62cd3af54"
      },
      "execution_count": null,
      "outputs": [
        {
          "output_type": "stream",
          "name": "stdout",
          "text": [
            "Input yout bmi22\n",
            "Healthy weight\n"
          ]
        }
      ]
    },
    {
      "cell_type": "markdown",
      "source": [
        "## String fotmatting\n",
        "https://docs.python.org/3/tutorial/inputoutput.html"
      ],
      "metadata": {
        "id": "kS00MWnHmHEY"
      }
    },
    {
      "cell_type": "code",
      "source": [
        "a = 'John'\n",
        "str2 = f'Hi, {a}'\n",
        "print(str2)"
      ],
      "metadata": {
        "id": "8WPebOM4m1J-",
        "colab": {
          "base_uri": "https://localhost:8080/"
        },
        "outputId": "bae44868-7045-463d-a82a-dcb94cacceea"
      },
      "execution_count": null,
      "outputs": [
        {
          "output_type": "stream",
          "name": "stdout",
          "text": [
            "Hi, John\n"
          ]
        }
      ]
    },
    {
      "cell_type": "code",
      "source": [
        "yes_votes = 42_572_654\n",
        "no_votes = 43_132_495\n",
        "percentage = yes_votes / (yes_votes + no_votes)\n",
        "print(f'{yes_votes:9} YES votes {percentage:2.2%}')"
      ],
      "metadata": {
        "id": "ZoMO5iLAm2Nd",
        "colab": {
          "base_uri": "https://localhost:8080/"
        },
        "outputId": "cbb49ace-fe6b-455d-c231-14e1592f2ca8"
      },
      "execution_count": null,
      "outputs": [
        {
          "output_type": "stream",
          "name": "stdout",
          "text": [
            " 42572654 YES votes 49.67%\n"
          ]
        }
      ]
    },
    {
      "cell_type": "markdown",
      "source": [
        "## Function definition and call"
      ],
      "metadata": {
        "id": "nXyJlChbnNrp"
      }
    },
    {
      "cell_type": "code",
      "source": [
        "a=240; b=96\n",
        "r=a%b\n",
        "while r!=0:\n",
        "  a=b;b=r\n",
        "  r=a%b\n",
        "print(f\"gcd={b}\")"
      ],
      "metadata": {
        "id": "pR-b6WswndWx",
        "colab": {
          "base_uri": "https://localhost:8080/"
        },
        "outputId": "dcf68559-03df-4e9b-e58c-81bad1990bf5"
      },
      "execution_count": null,
      "outputs": [
        {
          "output_type": "stream",
          "name": "stdout",
          "text": [
            "gcd=48\n"
          ]
        }
      ]
    },
    {
      "cell_type": "code",
      "source": [
        "def gcd(x, y):\n",
        "  r=x%y\n",
        "  while r!=0:\n",
        "    x=y;y=r\n",
        "    r=x%y\n",
        "  return y"
      ],
      "metadata": {
        "id": "Pf9LRBGcnfR1"
      },
      "execution_count": null,
      "outputs": []
    },
    {
      "cell_type": "code",
      "source": [
        "a=240; b=96\n",
        "print(f\"{a}, {b}, {gcd(a,b)}\")"
      ],
      "metadata": {
        "id": "6Ww5mOXFnhMa",
        "colab": {
          "base_uri": "https://localhost:8080/"
        },
        "outputId": "57ed21b7-200b-4488-f6be-c1c62c8f7c32"
      },
      "execution_count": null,
      "outputs": [
        {
          "output_type": "stream",
          "name": "stdout",
          "text": [
            "240, 96, 48\n"
          ]
        }
      ]
    },
    {
      "cell_type": "markdown",
      "source": [
        "## Exercise : print out the multiplication table\n",
        "<img src=\"https://previews.123rf.com/images/in8finity/in8finity1408/in8finity140800033/30726191-multiplication-table-on-white-background.jpg\" alt=\"img\" border=\"0\" width=\"500\">\n"
      ],
      "metadata": {
        "id": "8xpxBzJsm0kQ"
      }
    },
    {
      "cell_type": "code",
      "source": [
        "# Using 2 layers of loops, print out the multiplication table of 99/print out the multiplication table\n",
        "# start writing here\n"
      ],
      "metadata": {
        "id": "io0iUcdWnEw7",
        "colab": {
          "base_uri": "https://localhost:8080/"
        },
        "outputId": "19d9a8ab-0e5a-406d-b6c8-753665f5f6d7"
      },
      "execution_count": null,
      "outputs": [
        {
          "output_type": "stream",
          "name": "stdout",
          "text": [
            "1 *1 =1   2 *1 =2   3 *1 =3   4 *1 =4   5 *1 =5   \n",
            "1 *2 =2   2 *2 =4   3 *2 =6   4 *2 =8   5 *2 =10  \n",
            "1 *3 =3   2 *3 =6   3 *3 =9   4 *3 =12  5 *3 =15  \n",
            "1 *4 =4   2 *4 =8   3 *4 =12  4 *4 =16  5 *4 =20  \n",
            "1 *5 =5   2 *5 =10  3 *5 =15  4 *5 =20  5 *5 =25  \n",
            "1 *6 =6   2 *6 =12  3 *6 =18  4 *6 =24  5 *6 =30  \n",
            "1 *7 =7   2 *7 =14  3 *7 =21  4 *7 =28  5 *7 =35  \n",
            "1 *8 =8   2 *8 =16  3 *8 =24  4 *8 =32  5 *8 =40  \n",
            "1 *9 =9   2 *9 =18  3 *9 =27  4 *9 =36  5 *9 =45  \n",
            "1 *10=10  2 *10=20  3 *10=30  4 *10=40  5 *10=50  \n",
            "\n",
            "6 *1 =6   7 *1 =7   8 *1 =8   9 *1 =9   10*1 =10  \n",
            "6 *2 =12  7 *2 =14  8 *2 =16  9 *2 =18  10*2 =20  \n",
            "6 *3 =18  7 *3 =21  8 *3 =24  9 *3 =27  10*3 =30  \n",
            "6 *4 =24  7 *4 =28  8 *4 =32  9 *4 =36  10*4 =40  \n",
            "6 *5 =30  7 *5 =35  8 *5 =40  9 *5 =45  10*5 =50  \n",
            "6 *6 =36  7 *6 =42  8 *6 =48  9 *6 =54  10*6 =60  \n",
            "6 *7 =42  7 *7 =49  8 *7 =56  9 *7 =63  10*7 =70  \n",
            "6 *8 =48  7 *8 =56  8 *8 =64  9 *8 =72  10*8 =80  \n",
            "6 *9 =54  7 *9 =63  8 *9 =72  9 *9 =81  10*9 =90  \n",
            "6 *10=60  7 *10=70  8 *10=80  9 *10=90  10*10=100 \n"
          ]
        }
      ]
    }
  ]
}