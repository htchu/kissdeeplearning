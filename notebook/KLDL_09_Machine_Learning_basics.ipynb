{
  "nbformat": 4,
  "nbformat_minor": 0,
  "metadata": {
    "colab": {
      "provenance": []
    },
    "kernelspec": {
      "display_name": "Python 3",
      "language": "python",
      "name": "python3"
    }
  },
  "cells": [
    {
      "metadata": {
        "id": "zgFH05iHMqvo"
      },
      "cell_type": "markdown",
      "source": [
        "<img src=\"https://i.ibb.co/qjt4Ymb/2022-09-19-004719.png\" alt=\"2022-09-19-004719\" border=\"0\">\n",
        "\n",
        "# Topic 09: Machine Learning basics\n"
      ]
    },
    {
      "metadata": {
        "id": "EhqvIEmBMqvp"
      },
      "cell_type": "code",
      "source": [
        "import sklearn\n",
        "import numpy as np\n",
        "from sklearn.model_selection import train_test_split\n",
        "from sklearn import datasets\n",
        "import time\n",
        "iris = datasets.load_iris()\n",
        "X = iris.data  \n",
        "y = iris.target\n",
        "\n",
        "X_train, X_test, y_train, y_test = train_test_split(X, y, test_size=0.333)\n",
        "#print(len(X_train), len(X_test))\n",
        "def print_accuracy(f):\n",
        "    print(\"Accuracy = {0}%\".format(100*np.sum(f(X_test) == y_test)/len(y_test)))\n",
        "    time.sleep(0.5) # to let the print get out before any progress bars"
      ],
      "execution_count": null,
      "outputs": []
    },
    {
      "metadata": {
        "id": "ZqlZ6fKgMqvs",
        "colab": {
          "base_uri": "https://localhost:8080/"
        },
        "outputId": "a8fedf57-3096-403a-af62-ca5a535e73e2"
      },
      "cell_type": "code",
      "source": [
        "#KNN: k-nearest neighbors\n",
        "from sklearn.neighbors import KNeighborsClassifier\n",
        "knn = KNeighborsClassifier()\n",
        "knn.fit(X_train, y_train)\n",
        "print_accuracy(knn.predict)"
      ],
      "execution_count": null,
      "outputs": [
        {
          "output_type": "stream",
          "name": "stdout",
          "text": [
            "Accuracy = 96.0%\n"
          ]
        }
      ]
    },
    {
      "metadata": {
        "id": "Cie9fYRfMqvw",
        "colab": {
          "base_uri": "https://localhost:8080/"
        },
        "outputId": "5c5edbdc-d2b7-43c1-8941-11a76e7f30e3"
      },
      "cell_type": "code",
      "source": [
        "#SVM: Support vector machine with a linear kernel\n",
        "from sklearn.svm import SVC\n",
        "svc_linear = SVC(kernel='linear', probability=True)\n",
        "svc_linear.fit(X_train, y_train)\n",
        "print_accuracy(svc_linear.predict)"
      ],
      "execution_count": null,
      "outputs": [
        {
          "output_type": "stream",
          "name": "stdout",
          "text": [
            "Accuracy = 96.0%\n"
          ]
        }
      ]
    },
    {
      "metadata": {
        "id": "Vn2bCoy-Mqvz",
        "colab": {
          "base_uri": "https://localhost:8080/"
        },
        "outputId": "36d6979f-c7a3-4c01-cb9c-2fd597adb9ff"
      },
      "cell_type": "code",
      "source": [
        "#DT: Decision tree\n",
        "from sklearn.linear_model import LogisticRegression\n",
        "linear_lr = LogisticRegression()\n",
        "linear_lr.fit(X_train, y_train)\n",
        "print_accuracy(linear_lr.predict)"
      ],
      "execution_count": null,
      "outputs": [
        {
          "output_type": "stream",
          "name": "stdout",
          "text": [
            "Accuracy = 98.0%\n"
          ]
        }
      ]
    },
    {
      "metadata": {
        "id": "UM3ZnJMqMqv2",
        "colab": {
          "base_uri": "https://localhost:8080/"
        },
        "outputId": "4267380c-7011-479b-f787-73eb040eca26"
      },
      "cell_type": "code",
      "source": [
        "#RF: Random forest\n",
        "from sklearn.ensemble import RandomForestClassifier\n",
        "rforest = RandomForestClassifier(n_estimators=100, max_depth=None, min_samples_split=2, random_state=0)\n",
        "rforest.fit(X_train, y_train)\n",
        "print_accuracy(rforest.predict)"
      ],
      "execution_count": null,
      "outputs": [
        {
          "output_type": "stream",
          "name": "stdout",
          "text": [
            "Accuracy = 98.0%\n"
          ]
        }
      ]
    },
    {
      "metadata": {
        "id": "3ZtwFWyEMqv4",
        "colab": {
          "base_uri": "https://localhost:8080/"
        },
        "outputId": "9d4c6df3-6b74-4ae0-aa24-5020b20e72e3"
      },
      "cell_type": "code",
      "source": [
        "#ANN: Neural network (MLP)\n",
        "from sklearn.neural_network import MLPClassifier\n",
        "nn = MLPClassifier(solver='lbfgs', alpha=1e-1, hidden_layer_sizes=(5, 2), random_state=0)\n",
        "nn.fit(X_train, y_train)\n",
        "print_accuracy(nn.predict)"
      ],
      "execution_count": null,
      "outputs": [
        {
          "output_type": "stream",
          "name": "stdout",
          "text": [
            "Accuracy = 96.0%\n"
          ]
        }
      ]
    },
    {
      "metadata": {
        "id": "XLtNoWsWMqv7"
      },
      "cell_type": "code",
      "source": [],
      "execution_count": null,
      "outputs": []
    }
  ]
}