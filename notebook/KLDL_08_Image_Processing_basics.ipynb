{
  "nbformat": 4,
  "nbformat_minor": 0,
  "metadata": {
    "colab": {
      "provenance": []
    },
    "kernelspec": {
      "name": "python3",
      "display_name": "Python 3"
    }
  },
  "cells": [
    {
      "cell_type": "markdown",
      "source": [
        "<img src=\"https://i.ibb.co/qjt4Ymb/2022-09-19-004719.png\" alt=\"2022-09-19-004719\" border=\"0\">\n",
        "\n",
        "# Topic 08: Image Processing basics "
      ],
      "metadata": {
        "id": "0YAs_rFnRXTy"
      }
    },
    {
      "cell_type": "markdown",
      "metadata": {
        "id": "Kqufzu_4wboK"
      },
      "source": [
        "# Image class and image I/O"
      ]
    },
    {
      "cell_type": "code",
      "source": [
        "import numpy as np\n",
        "import matplotlib.pyplot as plt"
      ],
      "metadata": {
        "id": "ESGv-ZyvyXxG"
      },
      "execution_count": null,
      "outputs": []
    },
    {
      "cell_type": "markdown",
      "source": [],
      "metadata": {
        "id": "l2KisOXXPeTp"
      }
    },
    {
      "cell_type": "code",
      "source": [
        "from PIL import Image\n",
        "from urllib.request import urlopen\n",
        "img1 = Image.open(urlopen(\"https://au360.asia.edu.tw/assets/images/4.jpg\"))\n",
        "plt.imshow(img1)\n",
        "plt.show()"
      ],
      "metadata": {
        "id": "Rm_PbOsx7KBC"
      },
      "execution_count": null,
      "outputs": []
    },
    {
      "cell_type": "code",
      "source": [
        "type(img1)"
      ],
      "metadata": {
        "id": "aBRYk4fZ-fSH"
      },
      "execution_count": null,
      "outputs": []
    },
    {
      "cell_type": "code",
      "source": [
        "from skimage import io\n",
        "# reading the sample image from a url\n",
        "img2 = io.imread('https://au360.asia.edu.tw/assets/images/4.jpg')\n",
        "plt.imshow(img2)\n",
        "plt.show()"
      ],
      "metadata": {
        "id": "V9OzTMt4Xnck"
      },
      "execution_count": null,
      "outputs": []
    },
    {
      "cell_type": "code",
      "source": [
        "type(img2)"
      ],
      "metadata": {
        "id": "SLupCuJj-i0v"
      },
      "execution_count": null,
      "outputs": []
    },
    {
      "cell_type": "code",
      "source": [
        "import cv2\n",
        "from urllib.request import urlopen\n",
        "\n",
        "arr = np.asarray(bytearray(urlopen('https://au360.asia.edu.tw/assets/images/4.jpg').read()), dtype=np.uint8)\n",
        "img3 = cv2.imdecode(arr, -1) # 'Load it as it is'\n",
        "plt.imshow(img3)\n",
        "plt.show()"
      ],
      "metadata": {
        "id": "JmMW4aQwibgT"
      },
      "execution_count": null,
      "outputs": []
    },
    {
      "cell_type": "code",
      "source": [
        "type(img3)"
      ],
      "metadata": {
        "id": "gMdMx4auAtzb"
      },
      "execution_count": null,
      "outputs": []
    },
    {
      "cell_type": "code",
      "metadata": {
        "id": "QdWCgDt4ywui"
      },
      "source": [
        "# plt.imshow(img) shown an image with wrong colorspace. we should correct the colorspace\n",
        "img4 = cv2.cvtColor(img3, cv2.COLOR_BGR2RGB)\n",
        "plt.imshow(img4)\n",
        "plt.show()"
      ],
      "execution_count": null,
      "outputs": []
    },
    {
      "cell_type": "code",
      "source": [
        "img5 = Image.fromarray(img4)\n",
        "plt.imshow(img5)\n",
        "plt.show()"
      ],
      "metadata": {
        "id": "dYSyj2W4BK2q"
      },
      "execution_count": null,
      "outputs": []
    },
    {
      "cell_type": "code",
      "source": [
        "img6 = np.array(img1)\n",
        "plt.imshow(img6)\n",
        "plt.show()"
      ],
      "metadata": {
        "id": "n_G8NfwxBjaa"
      },
      "execution_count": null,
      "outputs": []
    },
    {
      "cell_type": "markdown",
      "source": [
        "# Sub-image\n",
        "<img src=\"https://i.ibb.co/wSbtWDb/lcds-displays-coordsys.png\" alt=\"lcds-displays-coordsys\" border=\"0\">"
      ],
      "metadata": {
        "id": "vXm_vt99q28d"
      }
    },
    {
      "cell_type": "code",
      "metadata": {
        "id": "UCS3pUgS9Bhj"
      },
      "source": [
        "box = (100, 100, 400, 400)\n",
        "sub = img1.crop(box)\n",
        "plt.imshow(sub)\n",
        "plt.show()"
      ],
      "execution_count": null,
      "outputs": []
    },
    {
      "cell_type": "markdown",
      "source": [
        "## Rotate and Flip"
      ],
      "metadata": {
        "id": "C9VzaIb6HVyn"
      }
    },
    {
      "cell_type": "code",
      "source": [
        "flip_img1 = img1.transpose(Image.TRANSPOSE)\n",
        " \n",
        "plt.imshow(flip_img1)\n",
        "plt.show()"
      ],
      "metadata": {
        "id": "Y8tFmnsTHVNs"
      },
      "execution_count": null,
      "outputs": []
    },
    {
      "cell_type": "code",
      "source": [
        "flip_img2 = img1.transpose(Image.TRANSVERSE)\n",
        " \n",
        "plt.imshow(flip_img2)\n",
        "plt.show()"
      ],
      "metadata": {
        "id": "FJSAr-tqHsKH"
      },
      "execution_count": null,
      "outputs": []
    },
    {
      "cell_type": "code",
      "source": [
        "flip_img3 = img1.transpose(Image.FLIP_LEFT_RIGHT)\n",
        " \n",
        "plt.imshow(flip_img3)\n",
        "plt.show()"
      ],
      "metadata": {
        "id": "rUc1dHw-H3qa"
      },
      "execution_count": null,
      "outputs": []
    },
    {
      "cell_type": "code",
      "source": [
        "flip_img4 = img1.transpose(Image.FLIP_TOP_BOTTOM)\n",
        " \n",
        "plt.imshow(flip_img4)\n",
        "plt.show()"
      ],
      "metadata": {
        "id": "O210IHSnIAVU"
      },
      "execution_count": null,
      "outputs": []
    },
    {
      "cell_type": "code",
      "source": [
        "rot_img1 = img1.transpose(Image.ROTATE_90)\n",
        " \n",
        "plt.imshow(rot_img1)\n",
        "plt.show()"
      ],
      "metadata": {
        "id": "WWJKrei7IORH"
      },
      "execution_count": null,
      "outputs": []
    },
    {
      "cell_type": "code",
      "source": [
        "rot_img2 = img1.transpose(Image.ROTATE_180)\n",
        " \n",
        "plt.imshow(rot_img2)\n",
        "plt.show()"
      ],
      "metadata": {
        "id": "fNrFPt4xIZfR"
      },
      "execution_count": null,
      "outputs": []
    },
    {
      "cell_type": "code",
      "source": [
        "rot_img3 = img1.transpose(Image.ROTATE_270)\n",
        " \n",
        "plt.imshow(rot_img3)\n",
        "plt.show()"
      ],
      "metadata": {
        "id": "xEHLJQMxIewU"
      },
      "execution_count": null,
      "outputs": []
    },
    {
      "cell_type": "markdown",
      "metadata": {
        "id": "rVmfBZqMs9PU"
      },
      "source": [
        "# Denoising filters"
      ]
    },
    {
      "cell_type": "code",
      "source": [
        "import numpy as np\n",
        "import matplotlib.pyplot as plt\n",
        "from skimage import data\n",
        "from skimage import filters\n",
        "from skimage import restoration\n",
        "\n",
        "coins = data.coins()\n",
        "coin = coins[10:80, 300:370]\n",
        "plt.imshow(coin)\n",
        "plt.show()"
      ],
      "metadata": {
        "id": "-TaMdWchEWIJ"
      },
      "execution_count": null,
      "outputs": []
    },
    {
      "cell_type": "code",
      "source": [
        "plt.imshow(coin, cmap='gray', interpolation='nearest')\n",
        "plt.show()"
      ],
      "metadata": {
        "id": "g2TpSBD7FE1E"
      },
      "execution_count": null,
      "outputs": []
    },
    {
      "cell_type": "code",
      "source": [
        "#gaussian_filter\n",
        "gaussian_filter_coin = filters.gaussian(coin, sigma=2)\n",
        "plt.imshow(gaussian_filter_coin, cmap='gray', interpolation='nearest')\n",
        "plt.show()"
      ],
      "metadata": {
        "id": "iZrlpk4kE7S-"
      },
      "execution_count": null,
      "outputs": []
    },
    {
      "cell_type": "code",
      "source": [
        "# Median filter\n",
        "med_filter_coin = filters.median(coin, np.ones((3, 3)))\n",
        "plt.imshow(med_filter_coin, cmap='gray', interpolation='nearest')\n",
        "plt.show()"
      ],
      "metadata": {
        "id": "uYAkignYEohq"
      },
      "execution_count": null,
      "outputs": []
    },
    {
      "cell_type": "code",
      "source": [
        "#'TV filter'\n",
        "tv_filter_coin = restoration.denoise_tv_chambolle(coin, weight=0.1)\n",
        "plt.imshow(tv_filter_coin, cmap='gray', interpolation='nearest')\n",
        "plt.show()"
      ],
      "metadata": {
        "id": "qpfA5SqMF5WP"
      },
      "execution_count": null,
      "outputs": []
    },
    {
      "cell_type": "markdown",
      "source": [
        "## Reference\n",
        "\n",
        "* https://pillow.readthedocs.io/en/stable/handbook/tutorial.html\n",
        "* https://scipy-lectures.org/packages/scikit-image/auto_examples/\n",
        "* https://www.geeksforgeeks.org/python-pillow-flip-and-rotate-images/"
      ],
      "metadata": {
        "id": "xsSFZMsNCGmH"
      }
    }
  ]
}