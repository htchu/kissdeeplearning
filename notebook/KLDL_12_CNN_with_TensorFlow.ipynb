{
  "cells": [
    {
      "cell_type": "markdown",
      "source": [
        "<img src=\"https://i.ibb.co/qjt4Ymb/2022-09-19-004719.png\" alt=\"2022-09-19-004719\" border=\"0\">\n",
        "\n",
        "# Topic 12: CNN with TensorFlow"
      ],
      "metadata": {
        "id": "lViWpKP5e11U"
      }
    },
    {
      "cell_type": "markdown",
      "metadata": {
        "id": "AXghN_D9etJJ"
      },
      "source": [
        "# Kissipo-CNN-Mnist\n",
        "MNIST \n",
        "![Mnist](https://camo.githubusercontent.com/01c057a753e92a9bc70b8c45d62b295431851c09cffadf53106fc0aea7e2843f/687474703a2f2f692e7974696d672e636f6d2f76692f3051493378675875422d512f687164656661756c742e6a7067)"
      ]
    },
    {
      "cell_type": "markdown",
      "metadata": {
        "id": "SDKGHx7NetJL"
      },
      "source": [
        "## Load the TensorFlow library\n"
      ]
    },
    {
      "cell_type": "code",
      "execution_count": null,
      "metadata": {
        "id": "YLmTr87Umteb",
        "outputId": "8466e775-0ec8-4c1f-b4f6-266723df6330",
        "colab": {
          "base_uri": "https://localhost:8080/"
        }
      },
      "outputs": [
        {
          "output_type": "stream",
          "name": "stdout",
          "text": [
            "2.9.2\n"
          ]
        }
      ],
      "source": [
        "import tensorflow as tf\n",
        "print(tf.__version__)"
      ]
    },
    {
      "cell_type": "markdown",
      "metadata": {
        "id": "Kiwc4WohetJN"
      },
      "source": [
        "# Part-1 The training phase"
      ]
    },
    {
      "cell_type": "markdown",
      "metadata": {
        "id": "oN55wSWoetJN"
      },
      "source": [
        "## IPO-M: Building a DL model (Sequential API, Graph mode)\n",
        "$M(x)=\\hat{y}$"
      ]
    },
    {
      "cell_type": "code",
      "execution_count": null,
      "metadata": {
        "id": "hz_qOyP5etJN"
      },
      "outputs": [],
      "source": [
        "model = tf.keras.models.Sequential([\n",
        "  tf.keras.layers.Conv2D(filters = 32, kernel_size = (3,3),padding = 'Same', activation ='relu', input_shape = (28,28,1)),\n",
        "  tf.keras.layers.MaxPool2D(pool_size=(2,2)),\n",
        "  tf.keras.layers.Conv2D(filters = 64, kernel_size = (3,3),padding = 'Same', activation ='relu'),\n",
        "  tf.keras.layers.MaxPool2D(pool_size=(2,2)),\n",
        "  tf.keras.layers.Dropout(0.25),\n",
        "  tf.keras.layers.Flatten(),\n",
        "  tf.keras.layers.Dense(128, activation='relu'),\n",
        "  tf.keras.layers.Dropout(0.2),\n",
        "  tf.keras.layers.Dense(10, activation='softmax')\n",
        "])"
      ]
    },
    {
      "cell_type": "markdown",
      "metadata": {
        "id": "QhU61X8yetJO"
      },
      "source": [
        "## IPO-I: input data"
      ]
    },
    {
      "cell_type": "markdown",
      "metadata": {
        "id": "EgHrM2GJetJO"
      },
      "source": [
        "### 載入MNIST數據集。"
      ]
    },
    {
      "cell_type": "code",
      "execution_count": null,
      "metadata": {
        "id": "E2nYp5KCnHiH",
        "colab": {
          "base_uri": "https://localhost:8080/"
        },
        "outputId": "c551ae03-a334-44bf-828c-14f81c7dcbce"
      },
      "outputs": [
        {
          "output_type": "stream",
          "name": "stdout",
          "text": [
            "Downloading data from https://storage.googleapis.com/tensorflow/tf-keras-datasets/mnist.npz\n",
            "11490434/11490434 [==============================] - 0s 0us/step\n"
          ]
        }
      ],
      "source": [
        "mnist = tf.keras.datasets.mnist\n",
        "(x_train, y_train), (x_test, y_test) = mnist.load_data()\n",
        "x_train, x_test = x_train / 255.0, x_test / 255.0"
      ]
    },
    {
      "cell_type": "code",
      "execution_count": null,
      "metadata": {
        "id": "mTnBuBjgetJP",
        "outputId": "3523557f-d325-40c1-eb45-dfa3b75ceb19",
        "colab": {
          "base_uri": "https://localhost:8080/"
        }
      },
      "outputs": [
        {
          "output_type": "execute_result",
          "data": {
            "text/plain": [
              "numpy.ndarray"
            ]
          },
          "metadata": {},
          "execution_count": 4
        }
      ],
      "source": [
        "type(x_train)"
      ]
    },
    {
      "cell_type": "code",
      "execution_count": null,
      "metadata": {
        "colab": {
          "base_uri": "https://localhost:8080/"
        },
        "id": "TMSXCKX5YbiM",
        "outputId": "304f39f9-86b0-43dd-fdfa-1e3384d8df5b"
      },
      "outputs": [
        {
          "output_type": "stream",
          "name": "stdout",
          "text": [
            "(60000, 28, 28)\n",
            "(10000, 28, 28)\n"
          ]
        }
      ],
      "source": [
        "print(x_train.shape)\n",
        "print(x_test.shape)"
      ]
    },
    {
      "cell_type": "code",
      "execution_count": null,
      "metadata": {
        "id": "fxsvHlRGetJP",
        "outputId": "9fc046d6-0476-4b3c-f45f-fdea4eccb401",
        "colab": {
          "base_uri": "https://localhost:8080/"
        }
      },
      "outputs": [
        {
          "output_type": "stream",
          "name": "stdout",
          "text": [
            "(60000, 28, 28, 1)\n",
            "(60000,)\n"
          ]
        }
      ],
      "source": [
        "x_train = x_train[..., tf.newaxis]\n",
        "x_test  = x_test[..., tf.newaxis]\n",
        "print(x_train.shape)\n",
        "print(y_train.shape)"
      ]
    },
    {
      "cell_type": "markdown",
      "metadata": {
        "id": "uSQvU-mzetJQ"
      },
      "source": [
        "## IPO-O: ontput data"
      ]
    },
    {
      "cell_type": "code",
      "execution_count": null,
      "metadata": {
        "id": "mBLA2vz-etJQ",
        "outputId": "38411559-fc8a-4beb-e26f-50dfec3e98c7",
        "colab": {
          "base_uri": "https://localhost:8080/"
        }
      },
      "outputs": [
        {
          "output_type": "stream",
          "name": "stdout",
          "text": [
            "(60000,)\n",
            "(10000,)\n"
          ]
        }
      ],
      "source": [
        "print(y_train.shape)\n",
        "print(y_test.shape)"
      ]
    },
    {
      "cell_type": "code",
      "execution_count": null,
      "metadata": {
        "id": "EZ8ReTGmetJQ",
        "outputId": "cc7b74a7-5ded-4e54-8998-1dd10e4e2a52",
        "colab": {
          "base_uri": "https://localhost:8080/"
        }
      },
      "outputs": [
        {
          "output_type": "stream",
          "name": "stdout",
          "text": [
            "(60000, 10)\n",
            "(10000, 10)\n"
          ]
        }
      ],
      "source": [
        "# convert class vectors to binary class matrices\n",
        "y_train = tf.keras.utils.to_categorical(y_train, 10)\n",
        "y_test = tf.keras.utils.to_categorical(y_test, 10)\n",
        "print(y_train.shape)\n",
        "print(y_test.shape)"
      ]
    },
    {
      "cell_type": "markdown",
      "metadata": {
        "id": "olC09rhretJQ"
      },
      "source": [
        "## IPO-P: Training model"
      ]
    },
    {
      "cell_type": "markdown",
      "metadata": {
        "id": "cfMpNiTbetJR"
      },
      "source": [
        "### Choose an optimizer and loss function for model building \n",
        "The from_logits=True attribute inform the loss function that the output values generated by the model are not normalized, a.k.a. logits. In other words, the softmax function has not been applied on them to produce a probability distribution."
      ]
    },
    {
      "cell_type": "code",
      "execution_count": null,
      "metadata": {
        "id": "cIaOfW3petJR"
      },
      "outputs": [],
      "source": [
        "#loss_fn = tf.keras.losses.SparseCategoricalCrossentropy(from_logits=True)\n",
        "loss_fn = tf.keras.losses.CategoricalCrossentropy(from_logits=False)"
      ]
    },
    {
      "cell_type": "code",
      "execution_count": null,
      "metadata": {
        "id": "gnYFGn0petJR"
      },
      "outputs": [],
      "source": [
        "#Create an optimizer with the desired parameters.\n",
        "opt = tf.keras.optimizers.SGD(learning_rate=0.1)"
      ]
    },
    {
      "cell_type": "markdown",
      "metadata": {
        "id": "twH6fvDnetJR"
      },
      "source": [
        "### Compile model"
      ]
    },
    {
      "cell_type": "code",
      "execution_count": null,
      "metadata": {
        "id": "7RsnYBuanm33"
      },
      "outputs": [],
      "source": [
        "model.compile(optimizer=opt, loss=loss_fn, metrics=['accuracy'])"
      ]
    },
    {
      "cell_type": "markdown",
      "metadata": {
        "id": "e4dwuTQ8etJR"
      },
      "source": [
        "## Training model "
      ]
    },
    {
      "cell_type": "code",
      "execution_count": null,
      "metadata": {
        "colab": {
          "base_uri": "https://localhost:8080/"
        },
        "id": "poefNKBVoDef",
        "outputId": "741995f8-1d5e-4a6f-bdf1-fdb0c61ee60f"
      },
      "outputs": [
        {
          "output_type": "stream",
          "name": "stdout",
          "text": [
            "Epoch 1/10\n",
            "1875/1875 [==============================] - 14s 3ms/step - loss: 0.2179 - accuracy: 0.9308\n",
            "Epoch 2/10\n",
            "1875/1875 [==============================] - 6s 3ms/step - loss: 0.0736 - accuracy: 0.9770\n",
            "Epoch 3/10\n",
            "1875/1875 [==============================] - 6s 3ms/step - loss: 0.0555 - accuracy: 0.9823\n",
            "Epoch 4/10\n",
            "1875/1875 [==============================] - 6s 3ms/step - loss: 0.0437 - accuracy: 0.9862\n",
            "Epoch 5/10\n",
            "1875/1875 [==============================] - 6s 3ms/step - loss: 0.0391 - accuracy: 0.9874\n",
            "Epoch 6/10\n",
            "1875/1875 [==============================] - 7s 4ms/step - loss: 0.0327 - accuracy: 0.9897\n",
            "Epoch 7/10\n",
            "1875/1875 [==============================] - 6s 3ms/step - loss: 0.0287 - accuracy: 0.9909\n",
            "Epoch 8/10\n",
            "1875/1875 [==============================] - 6s 3ms/step - loss: 0.0251 - accuracy: 0.9917\n",
            "Epoch 9/10\n",
            "1875/1875 [==============================] - 6s 3ms/step - loss: 0.0231 - accuracy: 0.9924\n",
            "Epoch 10/10\n",
            "1875/1875 [==============================] - 6s 3ms/step - loss: 0.0216 - accuracy: 0.9926\n"
          ]
        },
        {
          "output_type": "execute_result",
          "data": {
            "text/plain": [
              "<keras.callbacks.History at 0x7f8d5cf77990>"
            ]
          },
          "metadata": {},
          "execution_count": 12
        }
      ],
      "source": [
        "model.fit(x_train, y_train, epochs=10)"
      ]
    },
    {
      "cell_type": "markdown",
      "metadata": {
        "id": "U5xHYBuLetJS"
      },
      "source": [
        "## IPO-P: Evaluating model"
      ]
    },
    {
      "cell_type": "code",
      "execution_count": null,
      "metadata": {
        "id": "BRAInZ1AobI8",
        "colab": {
          "base_uri": "https://localhost:8080/"
        },
        "outputId": "bcfd2415-0054-47b2-a714-b8cd7c258e12"
      },
      "outputs": [
        {
          "output_type": "stream",
          "name": "stdout",
          "text": [
            "313/313 [==============================] - 1s 3ms/step - loss: 0.0256 - accuracy: 0.9913\n"
          ]
        },
        {
          "output_type": "execute_result",
          "data": {
            "text/plain": [
              "[0.02560417726635933, 0.9912999868392944]"
            ]
          },
          "metadata": {},
          "execution_count": 13
        }
      ],
      "source": [
        "model.evaluate(x_test,  y_test)"
      ]
    },
    {
      "cell_type": "code",
      "execution_count": null,
      "metadata": {
        "id": "Avj5Q78aetJS"
      },
      "outputs": [],
      "source": [
        "import numpy as np\n",
        "from PIL import Image\n",
        "from IPython.display import display"
      ]
    },
    {
      "cell_type": "markdown",
      "metadata": {
        "id": "2YORhz8fetJS"
      },
      "source": [
        "# Part-2 The Inference phase"
      ]
    },
    {
      "cell_type": "markdown",
      "metadata": {
        "id": "dvYiitmdetJS"
      },
      "source": [
        "## IPO-M: Predicting the digit of an image\n",
        "$M(x)=\\hat{y}$"
      ]
    },
    {
      "cell_type": "markdown",
      "metadata": {
        "id": "VzJq4bUcetJS"
      },
      "source": [
        "## IPO-I2: input a single image"
      ]
    },
    {
      "cell_type": "code",
      "metadata": {
        "id": "yS2pqWVppr4Q"
      },
      "source": [
        "### 第一次"
      ],
      "execution_count": null,
      "outputs": []
    },
    {
      "cell_type": "code",
      "execution_count": null,
      "metadata": {
        "id": "K9sz2cSGetJT"
      },
      "outputs": [],
      "source": [
        "#show image real size\n",
        "img = Image.open('n1.bmp')\n",
        "display(img)\n",
        "img2=img.resize((28, 28))\n",
        "img.close()"
      ]
    },
    {
      "cell_type": "code",
      "execution_count": null,
      "metadata": {
        "id": "RPSOOqcGetJT"
      },
      "outputs": [],
      "source": [
        "#show image at the size of 28x28\n",
        "display(img2)"
      ]
    },
    {
      "cell_type": "markdown",
      "metadata": {
        "id": "ewjjVhPLetJT"
      },
      "source": [
        "### Covert an image to a numpy.ndarray (1, 28, 28)"
      ]
    },
    {
      "cell_type": "code",
      "execution_count": null,
      "metadata": {
        "id": "DzpHpYyQetJT"
      },
      "outputs": [],
      "source": [
        "im2arr = np.array(img2)/ 255.0\n",
        "im2arr = im2arr.reshape(1,28,28)"
      ]
    },
    {
      "cell_type": "markdown",
      "metadata": {
        "id": "vUU3-XaKetJT"
      },
      "source": [
        "## IPO-P2: model.predict"
      ]
    },
    {
      "cell_type": "code",
      "execution_count": null,
      "metadata": {
        "id": "LNzrKpR2etJT"
      },
      "outputs": [],
      "source": [
        "y_pred = model.predict(im2arr)\n",
        "print(y_pred)\n"
      ]
    },
    {
      "cell_type": "code",
      "execution_count": null,
      "metadata": {
        "id": "DXs2nXXjetJT"
      },
      "outputs": [],
      "source": [
        "y_hat =np.argmax(y_pred)\n",
        "y_hat"
      ]
    }
  ],
  "metadata": {
    "accelerator": "GPU",
    "colab": {
      "provenance": []
    },
    "kernelspec": {
      "display_name": "Python 3",
      "language": "python",
      "name": "python3"
    },
    "language_info": {
      "codemirror_mode": {
        "name": "ipython",
        "version": 3
      },
      "file_extension": ".py",
      "mimetype": "text/x-python",
      "name": "python",
      "nbconvert_exporter": "python",
      "pygments_lexer": "ipython3",
      "version": "3.7.6"
    }
  },
  "nbformat": 4,
  "nbformat_minor": 0
}