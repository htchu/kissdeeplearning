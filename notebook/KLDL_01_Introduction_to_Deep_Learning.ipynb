{
  "nbformat": 4,
  "nbformat_minor": 0,
  "metadata": {
    "colab": {
      "provenance": []
    },
    "kernelspec": {
      "display_name": "Python 3",
      "language": "python",
      "name": "python3"
    },
    "language_info": {
      "codemirror_mode": {
        "name": "ipython",
        "version": 3
      },
      "file_extension": ".py",
      "mimetype": "text/x-python",
      "name": "python",
      "nbconvert_exporter": "python",
      "pygments_lexer": "ipython3",
      "version": "3.7.6"
    }
  },
  "cells": [
    {
      "cell_type": "markdown",
      "metadata": {
        "id": "EUjJ7ImLnPVr"
      },
      "source": [
        "<img src=\"https://i.ibb.co/qjt4Ymb/2022-09-19-004719.png\" alt=\"2022-09-19-004719\" border=\"0\">\n",
        "\n",
        "# Topic 01: Introduction to Deep Learning (20min)"
      ]
    },
    {
      "cell_type": "markdown",
      "metadata": {
        "id": "Zk0MAMNlo_gx"
      },
      "source": [
        "## Course schedule and grading policy\n",
        "1. Week1 - Course Introduction\n",
        "1. Week2 - DL Programming Basics(1)\n",
        "1. Week3 - DL Programming Basics(2)\n",
        "1. Week4 - DL 1. Weekith TensorFlo1. Week \n",
        "1. Week5 - Midterm\n",
        "1. Week6 - DL 1. Weekith PyTorch\n",
        "1. Week7 - AOI hands-on project\n",
        "1. Week8 - RSD hands-on project\n",
        "1. Week9 - NLP hands-on project\n",
        "1. Week10 - Final exam\n"
      ]
    },
    {
      "cell_type": "markdown",
      "source": [
        "## Grading Policy\n",
        "\n",
        "* Quiz            : 30%\n",
        "* Midterm      : 30%\n",
        "* \n",
        "Final exam  : 40%\n"
      ],
      "metadata": {
        "id": "L0A7TJevJyOQ"
      }
    },
    {
      "cell_type": "markdown",
      "source": [
        "## Deep learning related packages\n",
        "\n",
        "1. Python: https://www.python.org/   \n",
        "2. NumPy: https://numpy.org/ \n",
        "3. pandas: https://pandas.pydata.org/ \n",
        "4. OpenCV: https://opencv.org/ \n",
        "5. Pillow: https://pillow.readthedocs.io/ \n",
        "6. scikit-learn: https://scikit-learn.org/\n",
        "7. TensorFlow: https://www.tensorflow.org/\n",
        "8. Keras: https://keras.io/ \n",
        "9. PyTorch: https://pytorch.org/ \n",
        "\n"
      ],
      "metadata": {
        "id": "Tl5zlbpOKD5n"
      }
    },
    {
      "cell_type": "markdown",
      "source": [
        "# PyTorch VS TensorFlow\n",
        "\n",
        "<img src=\"https://i.ibb.co/Tb9bcDz/pttf.png\" alt=\"pttf\" border=\"0\">"
      ],
      "metadata": {
        "id": "uy4NPLazXg-7"
      }
    },
    {
      "cell_type": "markdown",
      "source": [],
      "metadata": {
        "id": "1Z_3CxIlVkNn"
      }
    }
  ]
}