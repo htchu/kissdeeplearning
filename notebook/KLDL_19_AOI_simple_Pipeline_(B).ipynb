{
  "nbformat": 4,
  "nbformat_minor": 0,
  "metadata": {
    "accelerator": "GPU",
    "colab": {
      "provenance": []
    },
    "kernelspec": {
      "display_name": "Python 3",
      "language": "python",
      "name": "python3"
    },
    "language_info": {
      "codemirror_mode": {
        "name": "ipython",
        "version": 3
      },
      "file_extension": ".py",
      "mimetype": "text/x-python",
      "name": "python",
      "nbconvert_exporter": "python",
      "pygments_lexer": "ipython3",
      "version": "3.7.6"
    }
  },
  "cells": [
    {
      "cell_type": "markdown",
      "metadata": {
        "id": "vpfvx3zSO-je"
      },
      "source": [
        "<img src=\"https://i.ibb.co/qjt4Ymb/2022-09-19-004719.png\" alt=\"2022-09-19-004719\" border=\"0\">\n",
        "\n",
        "# Topic 18: AOI simple Pipeline (B) "
      ]
    },
    {
      "cell_type": "markdown",
      "metadata": {
        "id": "ZOuhb2IiDVpm"
      },
      "source": [
        "# Exercise: Full solution\n",
        "* Single CNN model\n",
        "* ImageDataSet\n",
        "* ImageDataLoader\n",
        "* Submit results\n",
        "\n",
        "AIdea AOI Project\n",
        "https://aidea-web.tw/topic/285ef3be-44eb-43dd-85cc-f0388bf85ea4"
      ]
    },
    {
      "cell_type": "markdown",
      "metadata": {
        "id": "bXEzgNlpP_sv"
      },
      "source": [
        "## Step 1: Load the dataset from google drive\n",
        "If the following command does not work, please download it, put it on your Google drive, and set up sharing\n",
        "\n",
        "Download from:\n",
        "https://drive.google.com/file/d/1tovCO2gsjesjJ8OsfHgahyt-buY34dk0/view?usp=sharing"
      ]
    },
    {
      "cell_type": "code",
      "metadata": {
        "id": "7VE-8D4WP-zd"
      },
      "source": [
        "%%bash\n",
        "pip install --upgrade --no-cache-dir gdown\n",
        "gdown https://drive.google.com/uc?id=1tovCO2gsjesjJ8OsfHgahyt-buY34dk0\n",
        "unzip aoi-dataset.zip\n",
        "rm aoi-dataset.zip"
      ],
      "execution_count": null,
      "outputs": []
    },
    {
      "cell_type": "markdown",
      "metadata": {
        "id": "kHlgUk9qQLRu"
      },
      "source": [
        "## Step 2: Import python libraries"
      ]
    },
    {
      "cell_type": "code",
      "metadata": {
        "id": "OCJBD9x1Bv8n"
      },
      "source": [
        "import os\n",
        "import glob\n",
        "import torch\n",
        "from torch import nn\n",
        "from torch.utils.data import Dataset, DataLoader\n",
        "from torchvision import datasets\n",
        "from torchvision.transforms import ToTensor"
      ],
      "execution_count": null,
      "outputs": []
    },
    {
      "cell_type": "code",
      "source": [
        "import torch\n",
        "print (torch.cuda.is_available())"
      ],
      "metadata": {
        "id": "FpAjxdzsmIWU"
      },
      "execution_count": null,
      "outputs": []
    },
    {
      "cell_type": "code",
      "source": [
        "device_name=torch.cuda.get_device_name(0)\n",
        "print(f\"Using GPU {device_name}\")"
      ],
      "metadata": {
        "id": "xxR_KNjWdQdw"
      },
      "execution_count": null,
      "outputs": []
    },
    {
      "cell_type": "code",
      "metadata": {
        "id": "Gl5ZMXU3S_rH"
      },
      "source": [
        "import numpy as np\n",
        "import matplotlib.pyplot as plt\n",
        "%matplotlib inline"
      ],
      "execution_count": null,
      "outputs": []
    },
    {
      "cell_type": "markdown",
      "source": [
        "## Step 3: Choose one of CNN models and load from the saved file\n",
        "\n",
        "### EfficientNet B0 to B7\n",
        "\n",
        "__Model-EfficientNet__\n",
        "\n",
        "https://pytorch.org/hub/nvidia_deeplearningexamples_efficientnet/\n",
        "\n",
        "|  Base model | resolution  | Base model | resolution  |\n",
        "|---|---|---|---|\n",
        "| EfficientNetB0  | 224  | EfficientNetB4  | 380  |\n",
        "| EfficientNetB1  | 240  | EfficientNetB5  | 456  |\n",
        "| EfficientNetB2  | 260  | EfficientNetB6  | 528  |\n",
        "| EfficientNetB3  | 300  | EfficientNetB7  | 600  |\n"
      ],
      "metadata": {
        "id": "r726XRw2Cglu"
      }
    },
    {
      "cell_type": "markdown",
      "source": [],
      "metadata": {
        "id": "g7JzAQM2Ch5w"
      }
    },
    {
      "cell_type": "code",
      "source": [
        "import torchvision.models as models\n",
        "num_classes=6\n",
        "filepath = \"AOI-EnB0.pth\" \n",
        "model=models.efficientnet_b0(num_classes=num_classes)\n",
        "model.load_state_dict(torch.load(filepath))\n",
        "model.cuda()"
      ],
      "metadata": {
        "id": "YOCWQP71Co5m"
      },
      "execution_count": null,
      "outputs": []
    },
    {
      "cell_type": "markdown",
      "metadata": {
        "id": "oB5cwshcZdRo"
      },
      "source": [
        "## Step 4: Load the test set "
      ]
    },
    {
      "cell_type": "code",
      "metadata": {
        "id": "gH3N656tHvVF"
      },
      "source": [
        "import pandas as pd\n",
        "df_test = pd.read_csv(\"test.csv\")\n",
        "print(df_test.shape)"
      ],
      "execution_count": null,
      "outputs": []
    },
    {
      "cell_type": "code",
      "metadata": {
        "id": "hukndpFCnTBM"
      },
      "source": [
        "df_test.head()"
      ],
      "execution_count": null,
      "outputs": []
    },
    {
      "cell_type": "code",
      "metadata": {
        "id": "26sEKiQYH2sr"
      },
      "source": [
        "test_files  = df_test.iloc[:,0].values\n",
        "test_labels = df_test.iloc[:,1].values\n",
        "print(test_labels[:10])"
      ],
      "execution_count": null,
      "outputs": []
    },
    {
      "cell_type": "markdown",
      "metadata": {
        "id": "_BLG-wtcZvze"
      },
      "source": [
        "## Step 5: Set up a test_dataloader with test_dataset"
      ]
    },
    {
      "cell_type": "code",
      "source": [
        "from torchvision import transforms\n",
        "pretrained_size = 224\n",
        "pretrained_means = [0.485, 0.456, 0.406]\n",
        "pretrained_stds= [0.229, 0.224, 0.225]\n",
        "test_transform = transforms.Compose([\n",
        "    transforms.Resize(pretrained_size),\n",
        "    transforms.ToTensor(),\n",
        "    transforms.Normalize(mean = pretrained_means, std = pretrained_stds)\n",
        "])\n",
        "batches =48"
      ],
      "metadata": {
        "id": "WXmLqRH_Yd6C"
      },
      "execution_count": null,
      "outputs": []
    },
    {
      "cell_type": "code",
      "source": [
        "from PIL import Image \n",
        "class CustomDataset(torch.utils.data.Dataset):\n",
        "    def __init__(self, csv_path, images_folder, transform = None):\n",
        "        self.df = pd.read_csv(csv_path)\n",
        "        self.images_folder = images_folder\n",
        "        self.transform = transform\n",
        "\n",
        "    def __len__(self):\n",
        "        return len(self.df)\n",
        "    def __getitem__(self, index):\n",
        "        filename = self.df.iloc[index]['ID']\n",
        "        label = self.df.iloc[index]['Label']\n",
        "        image = Image.open(os.path.join(self.images_folder, filename)).convert('RGB')\n",
        "        if self.transform is not None:\n",
        "            image = self.transform(image)\n",
        "        return image, label"
      ],
      "metadata": {
        "id": "1CRWhA5wYsHD"
      },
      "execution_count": null,
      "outputs": []
    },
    {
      "cell_type": "code",
      "source": [
        "imgdir= \"test_images\" \n",
        "csvfile = \"test.csv\"\n"
      ],
      "metadata": {
        "id": "oypLTt5mrZQ_"
      },
      "execution_count": null,
      "outputs": []
    },
    {
      "cell_type": "code",
      "source": [
        "test_dataset = CustomDataset(csvfile, imgdir, test_transform)\n",
        "test_dataloader = DataLoader(test_dataset,batch_size=batches, shuffle=False)\n",
        "print(f\"Total images={len(test_dataset)}\")"
      ],
      "metadata": {
        "id": "UHS83H2trOEf"
      },
      "execution_count": null,
      "outputs": []
    },
    {
      "cell_type": "code",
      "source": [
        "total_batch=len(test_dataset)//batches + 1\n",
        "print(total_batch)"
      ],
      "metadata": {
        "id": "5grxQQyCrrmq"
      },
      "execution_count": null,
      "outputs": []
    },
    {
      "cell_type": "markdown",
      "metadata": {
        "id": "wzBR-D2-abER"
      },
      "source": [
        "## Step 6: Check test results"
      ]
    },
    {
      "cell_type": "code",
      "source": [
        "test_predictions = np.zeros(len(test_labels))"
      ],
      "metadata": {
        "id": "upzybCpgsJRg"
      },
      "execution_count": null,
      "outputs": []
    },
    {
      "cell_type": "code",
      "metadata": {
        "id": "chRywd4OnsFK"
      },
      "source": [
        "model.eval()\n",
        "# again no gradients needed\n",
        "with torch.no_grad():\n",
        "    total_batch = len(test_dataset)//batches\n",
        "    for i, (batch_images, batch_labels) in enumerate(test_dataloader):\n",
        "      images = batch_images.cuda()\n",
        "      labels = batch_labels.cuda()\n",
        "      outputs = model(images)\n",
        "      _, predictions = torch.max(outputs, 1)\n",
        "      test_predictions[i*batches:(i+1)*batches] = predictions.cpu()\n",
        "      if (i+1) % 10 == 0:\n",
        "          print(f'lter [{i+1}/{total_batch}]')"
      ],
      "execution_count": null,
      "outputs": []
    },
    {
      "cell_type": "code",
      "source": [
        "test_predictions=test_predictions.astype(int)\n",
        "test_predictions[:10]"
      ],
      "metadata": {
        "id": "VKIBMototYSU"
      },
      "execution_count": null,
      "outputs": []
    },
    {
      "cell_type": "markdown",
      "metadata": {
        "id": "iqkymIOfaeg1"
      },
      "source": [
        "## Step 7: Output test results"
      ]
    },
    {
      "cell_type": "code",
      "metadata": {
        "id": "0sXBA6kypHZd"
      },
      "source": [
        "df_out = pd.DataFrame(df_test)\n",
        "df_out.shape"
      ],
      "execution_count": null,
      "outputs": []
    },
    {
      "cell_type": "code",
      "metadata": {
        "id": "Z5sYBeoVIAKA"
      },
      "source": [
        "df_out['Label'] = test_predictions\n",
        "df_out.to_csv(\"pt-aoi.csv\", index=False)"
      ],
      "execution_count": null,
      "outputs": []
    }
  ]
}