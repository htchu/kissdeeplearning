{
  "nbformat": 4,
  "nbformat_minor": 0,
  "metadata": {
    "accelerator": "GPU",
    "colab": {
      "provenance": []
    },
    "kernelspec": {
      "display_name": "Python 3",
      "language": "python",
      "name": "python3"
    },
    "language_info": {
      "codemirror_mode": {
        "name": "ipython",
        "version": 3
      },
      "file_extension": ".py",
      "mimetype": "text/x-python",
      "name": "python",
      "nbconvert_exporter": "python",
      "pygments_lexer": "ipython3",
      "version": "3.7.6"
    }
  },
  "cells": [
    {
      "cell_type": "markdown",
      "metadata": {
        "id": "vpfvx3zSO-je"
      },
      "source": [
        "<img src=\"https://i.ibb.co/qjt4Ymb/2022-09-19-004719.png\" alt=\"2022-09-19-004719\" border=\"0\">\n",
        "\n",
        "# Topic 18: AOI simple Pipeline (A) \n"
      ]
    },
    {
      "cell_type": "markdown",
      "metadata": {
        "id": "ZOuhb2IiDVpm"
      },
      "source": [
        "# Exercise: Full solution\n",
        "* Single CNN model\n",
        "* ImageDataSet\n",
        "* ImageDataLoader\n",
        "* Submit results\n",
        "\n",
        "AIdea AOI Project\n",
        "https://aidea-web.tw/topic/285ef3be-44eb-43dd-85cc-f0388bf85ea4"
      ]
    },
    {
      "cell_type": "markdown",
      "metadata": {
        "id": "bXEzgNlpP_sv"
      },
      "source": [
        "## Step 1: Load the dataset from google drive\n",
        "If the following command does not work, please download it, put it on your Google drive, and set up sharing\n",
        "\n",
        "Download from:\n",
        "https://drive.google.com/file/d/1tovCO2gsjesjJ8OsfHgahyt-buY34dk0/view?usp=sharing"
      ]
    },
    {
      "cell_type": "code",
      "metadata": {
        "id": "7VE-8D4WP-zd"
      },
      "source": [
        "%%bash\n",
        "pip install --upgrade --no-cache-dir gdown\n",
        "gdown https://drive.google.com/uc?id=1tovCO2gsjesjJ8OsfHgahyt-buY34dk0\n",
        "unzip aoi-dataset.zip\n",
        "rm aoi-dataset.zip"
      ],
      "execution_count": null,
      "outputs": []
    },
    {
      "cell_type": "markdown",
      "metadata": {
        "id": "kHlgUk9qQLRu"
      },
      "source": [
        "## Step 2: Import PyTorch libraries"
      ]
    },
    {
      "cell_type": "code",
      "metadata": {
        "id": "OCJBD9x1Bv8n"
      },
      "source": [
        "import os\n",
        "import glob\n",
        "import torch\n",
        "from torch import nn\n",
        "from torch.utils.data import Dataset, DataLoader\n",
        "from torchvision import datasets\n",
        "from torchvision.transforms import ToTensor"
      ],
      "execution_count": null,
      "outputs": []
    },
    {
      "cell_type": "code",
      "source": [
        "print (torch.cuda.is_available())"
      ],
      "metadata": {
        "id": "FpAjxdzsmIWU"
      },
      "execution_count": null,
      "outputs": []
    },
    {
      "cell_type": "code",
      "source": [
        "device_name=torch.cuda.get_device_name(0)\n",
        "print(f\"Using GPU {device_name}\")"
      ],
      "metadata": {
        "id": "xxR_KNjWdQdw"
      },
      "execution_count": null,
      "outputs": []
    },
    {
      "cell_type": "code",
      "metadata": {
        "id": "Gl5ZMXU3S_rH"
      },
      "source": [
        "import numpy as np\n",
        "import matplotlib.pyplot as plt\n",
        "%matplotlib inline"
      ],
      "execution_count": null,
      "outputs": []
    },
    {
      "cell_type": "markdown",
      "metadata": {
        "id": "4TXVhSDQQXXO"
      },
      "source": [
        "## Step 3: read the training set"
      ]
    },
    {
      "cell_type": "code",
      "metadata": {
        "id": "pL3o453NU26h"
      },
      "source": [
        "import pandas as pd\n",
        "df_train = pd.read_csv(\"train.csv\")\n",
        "print(df_train.shape)"
      ],
      "execution_count": null,
      "outputs": []
    },
    {
      "cell_type": "code",
      "metadata": {
        "id": "tuDemzs5VKFk"
      },
      "source": [
        "df_train.head()"
      ],
      "execution_count": null,
      "outputs": []
    },
    {
      "cell_type": "code",
      "metadata": {
        "id": "-cVo6Gq4FApt"
      },
      "source": [
        "train_files = df_train.iloc[:,0].values\n",
        "train_labels = df_train.iloc[:,1].values\n",
        "print(train_labels[:10])"
      ],
      "execution_count": null,
      "outputs": []
    },
    {
      "cell_type": "markdown",
      "metadata": {
        "id": "PbZydP89TWuN"
      },
      "source": [
        "## Step 4: Show statistics of training images "
      ]
    },
    {
      "cell_type": "code",
      "metadata": {
        "id": "TtQV07_cFK7Y"
      },
      "source": [
        "import seaborn as sns\n",
        "g = sns.countplot(train_labels)"
      ],
      "execution_count": null,
      "outputs": []
    },
    {
      "cell_type": "markdown",
      "metadata": {
        "id": "9VfcJvPCTwjX"
      },
      "source": [
        "## Step 5: Choose one of CNN models \n",
        "\n",
        "### EfficientNet B0 to B7\n",
        "\n",
        "__Model-EfficientNet__\n",
        "\n",
        "https://pytorch.org/hub/nvidia_deeplearningexamples_efficientnet/\n",
        "\n",
        "|  Base model | resolution  | Base model | resolution  |\n",
        "|---|---|---|---|\n",
        "| EfficientNetB0  | 224  | EfficientNetB4  | 380  |\n",
        "| EfficientNetB1  | 240  | EfficientNetB5  | 456  |\n",
        "| EfficientNetB2  | 260  | EfficientNetB6  | 528  |\n",
        "| EfficientNetB3  | 300  | EfficientNetB7  | 600  |\n"
      ]
    },
    {
      "cell_type": "code",
      "metadata": {
        "id": "8YKcKTBabLig"
      },
      "source": [
        "num_classes=6"
      ],
      "execution_count": null,
      "outputs": []
    },
    {
      "cell_type": "code",
      "source": [
        "modelfile = None"
      ],
      "metadata": {
        "id": "nsCGj9PquxxY"
      },
      "execution_count": null,
      "outputs": []
    },
    {
      "cell_type": "code",
      "metadata": {
        "id": "ndL1lGGwEsOM"
      },
      "source": [
        "import torchvision.models as models\n",
        "model=models.efficientnet_b0(num_classes=num_classes)\n",
        "if modelfile != None: model.load_state_dict(torch.load(modelfile))\n",
        "model.cuda()"
      ],
      "execution_count": null,
      "outputs": []
    },
    {
      "cell_type": "markdown",
      "metadata": {
        "id": "xQgZdcYwUVqG"
      },
      "source": [
        "## Step 6: Instancing a dataloader \n",
        "* Transforms\n",
        "* CustomDataset\n",
        "* dataloader"
      ]
    },
    {
      "cell_type": "code",
      "source": [
        "from torchvision import transforms\n",
        "pretrained_size = 224\n",
        "pretrained_means = [0.485, 0.456, 0.406]\n",
        "pretrained_stds= [0.229, 0.224, 0.225]\n",
        "train_transform = transforms.Compose([\n",
        "    transforms.Resize(pretrained_size),\n",
        "    transforms.RandomRotation(5),\n",
        "    transforms.RandomHorizontalFlip(0.5),\n",
        "    transforms.RandomCrop(pretrained_size, padding = 10),\n",
        "    transforms.ToTensor(),\n",
        "    transforms.Normalize(mean = pretrained_means, std = pretrained_stds)\n",
        "])"
      ],
      "metadata": {
        "id": "iLaGLmzBq8El"
      },
      "execution_count": null,
      "outputs": []
    },
    {
      "cell_type": "code",
      "source": [
        "from PIL import Image \n",
        "class CustomDataset(torch.utils.data.Dataset):\n",
        "    def __init__(self, csv_path, images_folder, transform = None):\n",
        "        self.df = pd.read_csv(csv_path)\n",
        "        self.images_folder = images_folder\n",
        "        self.transform = transform\n",
        "\n",
        "    def __len__(self):\n",
        "        return len(self.df)\n",
        "    def __getitem__(self, index):\n",
        "        filename = self.df.iloc[index]['ID']\n",
        "        label = self.df.iloc[index]['Label']\n",
        "        image = Image.open(os.path.join(self.images_folder, filename)).convert('RGB')\n",
        "        if self.transform is not None:\n",
        "            image = self.transform(image)\n",
        "        return image, label"
      ],
      "metadata": {
        "id": "Xh767FQavDrD"
      },
      "execution_count": null,
      "outputs": []
    },
    {
      "cell_type": "markdown",
      "metadata": {
        "id": "s5oRwE1UUiFf"
      },
      "source": [
        "## Step 7: Set up a train dataloader with a custom dataset"
      ]
    },
    {
      "cell_type": "code",
      "source": [
        "batches = 24\n",
        "imgdir= \"train_images\" \n",
        "csvfile = \"train.csv\""
      ],
      "metadata": {
        "id": "rlbywHEtqrAh"
      },
      "execution_count": null,
      "outputs": []
    },
    {
      "cell_type": "code",
      "source": [
        "train_dataset = CustomDataset(csvfile, imgdir, train_transform)\n",
        "train_dataloader = DataLoader(train_dataset,batch_size=batches, shuffle=True)\n",
        "print(f\"Total images={len(train_dataset)}\")"
      ],
      "metadata": {
        "id": "I9J4vp3g2SAQ"
      },
      "execution_count": null,
      "outputs": []
    },
    {
      "cell_type": "markdown",
      "metadata": {
        "id": "n3FgxCjpVG3H"
      },
      "source": [
        "## Step 8: total_batch"
      ]
    },
    {
      "cell_type": "code",
      "metadata": {
        "id": "Fu7E0m3ucZCJ"
      },
      "source": [
        "total_batch=len(train_dataset)//batches + 1\n",
        "print(total_batch)"
      ],
      "execution_count": null,
      "outputs": []
    },
    {
      "cell_type": "markdown",
      "metadata": {
        "id": "AjzOG579Vcxx"
      },
      "source": [
        "## Step 9: Train model"
      ]
    },
    {
      "cell_type": "code",
      "source": [
        "loss = nn.CrossEntropyLoss()\n",
        "optimizer = torch.optim.SGD(model.parameters(), lr=0.001, momentum=0.9)"
      ],
      "metadata": {
        "id": "liWvFeyz4qiI"
      },
      "execution_count": null,
      "outputs": []
    },
    {
      "cell_type": "code",
      "source": [
        "num_epochs = 10"
      ],
      "metadata": {
        "id": "yhDXWs5Jo_KV"
      },
      "execution_count": null,
      "outputs": []
    },
    {
      "cell_type": "code",
      "metadata": {
        "id": "31K9h5ePJ5-O"
      },
      "source": [
        "for epoch in range(num_epochs):\n",
        "  for i, (batch_images, batch_labels) in enumerate(train_dataloader):\n",
        "    # Zero your gradients for every batch!\n",
        "    optimizer.zero_grad()\n",
        "    inputs = batch_images.cuda()\n",
        "    labels = batch_labels.cuda()\n",
        "    # Make predictions for this batch\n",
        "    outputs  = model(inputs)\n",
        "    \n",
        "    # Compute the loss and its gradients\n",
        "    cost = loss(outputs , labels)\n",
        "    cost.backward()\n",
        "    # Adjust learning weights\n",
        "    optimizer.step()\n",
        "\n",
        "    if (i+1) % 100 == 0:\n",
        "        print(f'Epoch [{epoch+1}/{num_epochs}], lter [{i+1}/{total_batch}] Loss: {cost.item():.4f}')"
      ],
      "execution_count": null,
      "outputs": []
    },
    {
      "cell_type": "markdown",
      "metadata": {
        "id": "rJ9oNZwlYCLk"
      },
      "source": [
        "## Step 10: Save the trained model"
      ]
    },
    {
      "cell_type": "code",
      "metadata": {
        "id": "0ZuxezvUMV0W"
      },
      "source": [
        "filepath = \"AOI-EnB0.pth\" \n",
        "torch.save(model.state_dict(), filepath)"
      ],
      "execution_count": null,
      "outputs": []
    },
    {
      "cell_type": "markdown",
      "metadata": {
        "id": "E4Kdl8aBYWpQ"
      },
      "source": [
        "## Step 11: Check training results"
      ]
    },
    {
      "cell_type": "code",
      "source": [
        "test_transform = transforms.Compose([\n",
        "    transforms.ToTensor(),\n",
        "    transforms.Normalize(mean = pretrained_means, std = pretrained_stds)\n",
        "])\n",
        "batches =48"
      ],
      "metadata": {
        "id": "uiC5SQoQ6Bt2"
      },
      "execution_count": null,
      "outputs": []
    },
    {
      "cell_type": "code",
      "source": [
        "test_dataset = CustomDataset(csvfile, imgdir, test_transform)\n",
        "test_dataloader = DataLoader(test_dataset,batch_size=batches, shuffle=False)\n",
        "print(f\"Total images={len(test_dataset)}\")"
      ],
      "metadata": {
        "id": "fmjSRVxH6K0j"
      },
      "execution_count": null,
      "outputs": []
    },
    {
      "cell_type": "code",
      "source": [
        "classes=[0,1,2,3,4,5]"
      ],
      "metadata": {
        "id": "eGlMpRPa6ck1"
      },
      "execution_count": null,
      "outputs": []
    },
    {
      "cell_type": "code",
      "source": [
        "train_predictions = np.zeros(len(train_labels))"
      ],
      "metadata": {
        "id": "hzxnzo66lmKL"
      },
      "execution_count": null,
      "outputs": []
    },
    {
      "cell_type": "code",
      "metadata": {
        "id": "snwxn3uEidj8"
      },
      "source": [
        "model.eval()\n",
        "# again no gradients needed\n",
        "with torch.no_grad():\n",
        "    total_batch = len(test_dataset)//batches\n",
        "    for i, (batch_images, batch_labels) in enumerate(test_dataloader):\n",
        "      images = batch_images.cuda()\n",
        "      labels = batch_labels.cuda()\n",
        "      outputs = model(images)\n",
        "      _, predictions = torch.max(outputs, 1)\n",
        "      train_predictions[i*batches:(i+1)*batches] = predictions.cpu()\n",
        "      if (i+1) % 10 == 0:\n",
        "          print(f'lter [{i+1}/{total_batch}]')"
      ],
      "execution_count": null,
      "outputs": []
    },
    {
      "cell_type": "code",
      "source": [
        "train_predictions=train_predictions.astype(int)"
      ],
      "metadata": {
        "id": "kjA-q76qoW5G"
      },
      "execution_count": null,
      "outputs": []
    },
    {
      "cell_type": "code",
      "source": [
        "print(train_labels[:10])"
      ],
      "metadata": {
        "id": "6--wwYebn3V2"
      },
      "execution_count": null,
      "outputs": []
    },
    {
      "cell_type": "code",
      "source": [
        "print(train_predictions[:10])"
      ],
      "metadata": {
        "id": "udQYhB6-nwd0"
      },
      "execution_count": null,
      "outputs": []
    },
    {
      "cell_type": "code",
      "source": [
        "correct_pred = {classname: 0 for classname in classes}\n",
        "total_pred = {classname: 0 for classname in classes}\n",
        "# collect the correct predictions for each class\n",
        "for label, prediction in zip(train_labels, train_predictions):\n",
        "    if label == prediction:\n",
        "        correct_pred[classes[label]] += 1\n",
        "    total_pred[classes[label]] += 1\n",
        "    \n",
        "for classname, correct_count in correct_pred.items():\n",
        "    accuracy = 100 * float(correct_count) / total_pred[classname]\n",
        "    print(f'Accuracy for class: {classname} is {accuracy:.1f} %')\n"
      ],
      "metadata": {
        "id": "Wzw8r8n0jAQF"
      },
      "execution_count": null,
      "outputs": []
    },
    {
      "cell_type": "markdown",
      "metadata": {
        "id": "0K0X0oUSZMCl"
      },
      "source": [
        "## Step 12: Analyze training results\n"
      ]
    },
    {
      "cell_type": "code",
      "metadata": {
        "id": "aZ3NL3iNVYFy"
      },
      "source": [
        "from sklearn.metrics import confusion_matrix\n",
        "confusion=confusion_matrix(train_labels, train_predictions)\n",
        "print(confusion)"
      ],
      "execution_count": null,
      "outputs": []
    },
    {
      "cell_type": "code",
      "metadata": {
        "id": "AEwJyegWXWKW"
      },
      "source": [
        "train_num = 2528\n",
        "overkill= []\n",
        "underkill = []\n",
        "for i,(label, prediction) in enumerate(zip(train_labels, train_predictions)):\n",
        "  if label == 0 and prediction !=0:\n",
        "    overkill.append(i)\n",
        "  if label != 0 and prediction ==0:\n",
        "    underkill.append(i)\n",
        "print('# of overkill= {}; # of underkill= {} '.format(len(overkill), len(underkill)))"
      ],
      "execution_count": null,
      "outputs": []
    }
  ]
}