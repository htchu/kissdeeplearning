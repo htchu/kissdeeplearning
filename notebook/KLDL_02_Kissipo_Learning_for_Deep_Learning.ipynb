{
  "nbformat": 4,
  "nbformat_minor": 0,
  "metadata": {
    "colab": {
      "provenance": []
    },
    "kernelspec": {
      "display_name": "Python 3",
      "language": "python",
      "name": "python3"
    },
    "language_info": {
      "codemirror_mode": {
        "name": "ipython",
        "version": 3
      },
      "file_extension": ".py",
      "mimetype": "text/x-python",
      "name": "python",
      "nbconvert_exporter": "python",
      "pygments_lexer": "ipython3",
      "version": "3.7.6"
    }
  },
  "cells": [
    {
      "cell_type": "markdown",
      "metadata": {
        "id": "EUjJ7ImLnPVr"
      },
      "source": [
        "<img src=\"https://i.ibb.co/qjt4Ymb/2022-09-19-004719.png\" alt=\"2022-09-19-004719\" border=\"0\">\n",
        "\n",
        "# Topic 02: Kissipo Learning for Deep Learning"
      ]
    },
    {
      "cell_type": "markdown",
      "metadata": {
        "id": "Zk0MAMNlo_gx"
      },
      "source": [
        "## Kissipo Learning\n",
        "<img src=\"https://i.ibb.co/4MpmBcL/kissipo.png\" alt=\"kissipo\" border=\"0\">\n",
        "\n",
        "* KISS principle \n",
        "https://en.wikipedia.org/wiki/KISS_principle\n",
        "\n",
        "* IPO model\n",
        "https://en.wikipedia.org/wiki/IPO_model\n",
        "\n"
      ]
    },
    {
      "cell_type": "markdown",
      "source": [
        "## Jupyter Notebook\n",
        "https://jupyter.org/\n",
        "\n",
        "<img src=\"https://i.ibb.co/HFGC8w7/jupyter.png\" alt=\"jupyter\" border=\"0\">"
      ],
      "metadata": {
        "id": "L0A7TJevJyOQ"
      }
    },
    {
      "cell_type": "markdown",
      "source": [
        "## ANACONDA\n",
        "\n",
        "https://www.anaconda.com/products/distribution\n",
        "\n",
        "![](https://assets.anaconda.com/production/Products/Distro01.png?w=700&q=80&auto=format&fit=crop&crop=focalpoint&fp-x=0.5&fp-y=0.5&dm=1647546929&s=7a22f8ac8ef3c673d6522750d19073e5)\n",
        "\n",
        "\n"
      ],
      "metadata": {
        "id": "jYEsN-LyvOr_"
      }
    },
    {
      "cell_type": "markdown",
      "source": [
        "## Python programing with Colab\n",
        "\n",
        "1. Colab Features: https://colab.research.google.com/notebooks/basic_features_overview.ipynb \n",
        "   \n",
        "2. Colab Markdown Guide: https://colab.research.google.com/notebooks/markdown_guide.ipynb \n",
        "\n",
        "3. Charts in Colab: https://colab.research.google.com/notebooks/charts.ipynb \n",
        "\n",
        "4. Mounting Google Drive \n",
        " https://colab.research.google.com/notebooks/snippets/drive.ipynb?hl=en\n"
      ],
      "metadata": {
        "id": "Tl5zlbpOKD5n"
      }
    },
    {
      "cell_type": "markdown",
      "source": [
        "## Input/output of deep learning models\n",
        "\n",
        "* Taxi Trajectory Prediction\n",
        "https://www.kaggle.com/competitions/pkdd-15-predict-taxi-service-trajectory-i/ \n"
      ],
      "metadata": {
        "id": "uy4NPLazXg-7"
      }
    },
    {
      "cell_type": "markdown",
      "source": [],
      "metadata": {
        "id": "1Z_3CxIlVkNn"
      }
    }
  ]
}