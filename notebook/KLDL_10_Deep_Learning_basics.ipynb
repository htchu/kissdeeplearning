{
  "nbformat": 4,
  "nbformat_minor": 0,
  "metadata": {
    "colab": {
      "provenance": []
    },
    "kernelspec": {
      "display_name": "Python 3",
      "language": "python",
      "name": "python3"
    }
  },
  "cells": [
    {
      "metadata": {
        "id": "zgFH05iHMqvo"
      },
      "cell_type": "markdown",
      "source": [
        "<img src=\"https://i.ibb.co/qjt4Ymb/2022-09-19-004719.png\" alt=\"2022-09-19-004719\" border=\"0\">\n",
        "\n",
        "# Topic 10: Deep Learning basics\n"
      ]
    },
    {
      "cell_type": "markdown",
      "source": [
        "## Neural Network Playground\n",
        "\n",
        "https://playground.tensorflow.org/\n",
        "\n",
        "<img src=\"https://i.ibb.co/w7ZR6QH/NNPlayground.png\" alt=\"NNPlayground\" border=\"0\">"
      ],
      "metadata": {
        "id": "_oTs1kL3aOZu"
      }
    }
  ]
}