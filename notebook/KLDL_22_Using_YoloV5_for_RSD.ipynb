{
  "nbformat": 4,
  "nbformat_minor": 0,
  "metadata": {
    "colab": {
      "provenance": [],
      "toc_visible": true
    },
    "kernelspec": {
      "name": "python3",
      "display_name": "Python 3"
    },
    "language_info": {
      "name": "python"
    },
    "accelerator": "GPU",
    "gpuClass": "standard"
  },
  "cells": [
    {
      "cell_type": "markdown",
      "source": [
        "<img src=\"https://i.ibb.co/qjt4Ymb/2022-09-19-004719.png\" alt=\"2022-09-19-004719\" border=\"0\">\n",
        "\n",
        "# Topic 22: Using YoloV5 for RSD (Road Sign Detection)\n"
      ],
      "metadata": {
        "id": "fokLKlNHakyI"
      }
    },
    {
      "cell_type": "markdown",
      "source": [
        "\n",
        "<img src=\"https://www.googleapis.com/download/storage/v1/b/kaggle-user-content/o/inbox%2F793761%2F2f4e745b70174af012318498be356c7f%2Fpreview.png?generation=1590285651238760&alt=media\" alt=\"2022-09-19-004719\" border=\"0\">\n",
        "\n",
        "Data from https://www.kaggle.com/datasets/andrewmvd/road-sign-detection"
      ],
      "metadata": {
        "id": "y8iwLKtFKHOn"
      }
    },
    {
      "cell_type": "markdown",
      "source": [
        "# Part-1. Preparing YoloV5"
      ],
      "metadata": {
        "id": "pbzWnVkTgUV_"
      }
    },
    {
      "cell_type": "code",
      "source": [],
      "metadata": {
        "id": "NgMzZRK-KW_o"
      },
      "execution_count": null,
      "outputs": []
    },
    {
      "cell_type": "code",
      "source": [
        "!git clone https://github.com/ultralytics/yolov5  # clone\n",
        "%cd yolov5\n",
        "%pip install -qr requirements.txt  # install\n",
        "\n",
        "import torch\n",
        "import utils\n",
        "display = utils.notebook_init()  # checks"
      ],
      "metadata": {
        "id": "81jX20iTgXzK"
      },
      "execution_count": null,
      "outputs": []
    },
    {
      "cell_type": "markdown",
      "source": [
        "# Part-2. Preprocessing data\n",
        "If the following command does not work, please download it, put it on your Google drive, and set up sharing\n",
        "\n",
        "Download from:\n",
        "https://drive.google.com/file/d/1z5QTlNnZaA2e6uQXIa5On6x6gHmEyzQK/view?usp=sharing"
      ],
      "metadata": {
        "id": "pxwwYr4wfKbK"
      }
    },
    {
      "cell_type": "code",
      "source": [
        "%%bash\n",
        "pip install --upgrade gdown\n",
        "gdown https://drive.google.com/uc?id=1z5QTlNnZaA2e6uQXIa5On6x6gHmEyzQK\n",
        "unzip roadsign.zip\n",
        "rm roadsign.zip"
      ],
      "metadata": {
        "id": "MwtjPzWxljth"
      },
      "execution_count": null,
      "outputs": []
    },
    {
      "cell_type": "code",
      "source": [
        "!pwd"
      ],
      "metadata": {
        "id": "egeIfLDZn2c2"
      },
      "execution_count": null,
      "outputs": []
    },
    {
      "cell_type": "code",
      "source": [
        "!touch roadsign.yaml"
      ],
      "metadata": {
        "id": "VRFptRivstih"
      },
      "execution_count": null,
      "outputs": []
    },
    {
      "cell_type": "markdown",
      "source": [
        "```\n",
        "# Train/val/test sets as 1) dir: path/to/imgs, 2) file: path/to/imgs.txt, or 3) list: [path/to/imgs1, path/to/imgs2, ..]\n",
        "path: roadsign  \n",
        "train: images  \n",
        "val:  images \n",
        "test: images \n",
        "\n",
        "# number of classes\n",
        "nc: 4\n",
        "\n",
        "# class names\n",
        "names: [\n",
        "'trafficlight',\n",
        "'stop',\n",
        "'speedlimit',\n",
        "'crosswalk']\n",
        "\n",
        "```"
      ],
      "metadata": {
        "id": "MN2a5uY7sZuS"
      }
    },
    {
      "cell_type": "markdown",
      "source": [
        "# Part-3. Train a YoloV5 model"
      ],
      "metadata": {
        "id": "eju0zTCmfF2q"
      }
    },
    {
      "cell_type": "code",
      "source": [
        "# Train YOLOv5s on Drone for 10 epochs\n",
        "!python train.py --img 640 --batch 32 --epochs 10 --data roadsign.yaml --weights yolov5s.pt --cache"
      ],
      "metadata": {
        "id": "3Yfs2PxGfxat"
      },
      "execution_count": null,
      "outputs": []
    },
    {
      "cell_type": "code",
      "source": [
        "!pwd"
      ],
      "metadata": {
        "id": "S2fHwV2OyTTb"
      },
      "execution_count": null,
      "outputs": []
    },
    {
      "cell_type": "markdown",
      "source": [
        "# Part-4. Predict a Test image with the trained YoloV5 model"
      ],
      "metadata": {
        "id": "y9100iY0tdV7"
      }
    },
    {
      "cell_type": "markdown",
      "source": [
        "![Japanese Traffic signs](https://upload.wikimedia.org/wikipedia/commons/thumb/1/1a/Japanese_Traffic_signs_in_Aichi_Pref_r-439_Toyooka.JPG/1200px-Japanese_Traffic_signs_in_Aichi_Pref_r-439_Toyooka.JPG) "
      ],
      "metadata": {
        "id": "bG4LPWpnbpKt"
      }
    },
    {
      "cell_type": "code",
      "source": [
        "from PIL import Image\n",
        "import urllib.request\n",
        "\n",
        "URL = 'https://upload.wikimedia.org/wikipedia/commons/thumb/1/1a/Japanese_Traffic_signs_in_Aichi_Pref_r-439_Toyooka.JPG/1200px-Japanese_Traffic_signs_in_Aichi_Pref_r-439_Toyooka.JPG'\n",
        "\n",
        "with urllib.request.urlopen(URL) as url:\n",
        "    with open('test.jpg', 'wb') as f:\n",
        "        f.write(url.read())"
      ],
      "metadata": {
        "id": "yMFzhDHPyWZ1"
      },
      "execution_count": null,
      "outputs": []
    },
    {
      "cell_type": "code",
      "source": [
        "!cp runs/train/exp/weights/last.pt rsd-yolov5s.pt"
      ],
      "metadata": {
        "id": "ZI2IWbtqeDxj"
      },
      "execution_count": null,
      "outputs": []
    },
    {
      "cell_type": "code",
      "source": [
        "!ls"
      ],
      "metadata": {
        "id": "o9q4Hw5DeRYu"
      },
      "execution_count": null,
      "outputs": []
    },
    {
      "cell_type": "code",
      "source": [
        "!python detect.py --weights rsd-yolov5s.pt --img 640 --conf 0.25 --source test.jpg"
      ],
      "metadata": {
        "id": "xXmQd-1Nx19l"
      },
      "execution_count": null,
      "outputs": []
    },
    {
      "cell_type": "code",
      "source": [
        "display.Image(filename='runs/detect/exp/test.jpg', width=600)"
      ],
      "metadata": {
        "id": "AhWQJ5Jleb0Y"
      },
      "execution_count": null,
      "outputs": []
    }
  ]
}